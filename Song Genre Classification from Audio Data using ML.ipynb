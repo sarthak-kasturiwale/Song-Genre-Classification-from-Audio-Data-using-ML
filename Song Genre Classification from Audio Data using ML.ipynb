{
 "cells": [
  {
   "cell_type": "markdown",
   "metadata": {},
   "source": [
    "# Song Genre Classification from Audio Data using ML"
   ]
  },
  {
   "cell_type": "markdown",
   "metadata": {},
   "source": [
    "# Introduction"
   ]
  },
  {
   "cell_type": "markdown",
   "metadata": {},
   "source": [
    "- Over the past few years, streaming services with huge catalogs have become the primary means through which most people listen to their favorite music. But at the same time, the sheer amount of music on offer can mean users might be a bit overwhelmed when trying to look for newer music that suits their tastes.\n",
    "- For this reason, streaming services have looked into means of categorizing music to allow for personalized recommendations. One method involves direct analysis of the raw audio information in a given song, scoring the raw data on a variety of metrics.\n",
    "- In this project we will classify songs as being either 'Hip-Hop' or 'Rock' - all without listening to a single one ourselves."
   ]
  },
  {
   "cell_type": "markdown",
   "metadata": {},
   "source": [
    "# Dataset Description"
   ]
  },
  {
   "cell_type": "markdown",
   "metadata": {},
   "source": [
    "- We have the metadata about our tracks alongside the track metrics compiled by The Echo Nest.\n",
    "- The dataset has downloaded from https://www.kaggle.com/aniruddhachoudhury/classify-song-genres-from-audio-data\n",
    "- A song is about more than its title, artist, and number of listens. We have another dataset that has musical features of each track such as danceability and cousticness on a scale from -1 to 1. \n",
    "- These exist in two different files, which are in different formats - CSV and JSON. While CSV is a popular file format for denoting tabular data, JSON is another common file format in which databases often return the results of a given query.\n",
    "- Let's start the project by loading the data."
   ]
  },
  {
   "cell_type": "markdown",
   "metadata": {},
   "source": [
    "# 1. Importing the Dependencies"
   ]
  },
  {
   "cell_type": "code",
   "execution_count": 42,
   "metadata": {},
   "outputs": [],
   "source": [
    "#Basic libraries\n",
    "import pandas as pd \n",
    "import numpy as np\n",
    "from scipy import stats\n",
    "\n",
    "# Import Plotting Libraries\n",
    "import matplotlib.pyplot as plt\n",
    "import seaborn as sns\n",
    "import plotly.express as px\n",
    "import plotly.figure_factory as ff\n",
    "import plotly\n",
    "\n",
    "# Classifiers\n",
    "from sklearn.ensemble import AdaBoostClassifier , GradientBoostingClassifier , VotingClassifier , RandomForestClassifier\n",
    "from sklearn.linear_model import LogisticRegression , RidgeClassifier\n",
    "from sklearn.discriminant_analysis import LinearDiscriminantAnalysis\n",
    "from sklearn.model_selection import RepeatedStratifiedKFold\n",
    "from sklearn.neighbors import KNeighborsClassifier\n",
    "from sklearn.model_selection import GridSearchCV\n",
    "from sklearn.tree import DecisionTreeClassifier \n",
    "from sklearn.naive_bayes import GaussianNB\n",
    "from xgboost import plot_importance\n",
    "from xgboost import XGBClassifier\n",
    "from sklearn.svm import SVC\n",
    "\n",
    "# Model evaluation tools\n",
    "from sklearn.metrics import classification_report , accuracy_score , confusion_matrix, roc_auc_score\n",
    "from sklearn.metrics import accuracy_score,f1_score\n",
    "from sklearn.model_selection import cross_val_score\n",
    "\n",
    "# Data processing Libraries\n",
    "from sklearn.preprocessing import StandardScaler\n",
    "from sklearn.model_selection import train_test_split\n",
    "from sklearn import model_selection\n",
    "from sklearn.preprocessing import LabelEncoder\n",
    "from sklearn.impute import SimpleImputer\n",
    "from sklearn.decomposition import PCA\n",
    "\n",
    "# Other Libraries\n",
    "from sklearn.utils import resample\n",
    "from sklearn.preprocessing import StandardScaler , MinMaxScaler\n",
    "from collections import Counter\n",
    "\n",
    "%matplotlib inline\n",
    "\n",
    "import warnings\n",
    "warnings.filterwarnings(\"ignore\")"
   ]
  },
  {
   "cell_type": "markdown",
   "metadata": {},
   "source": [
    "# 2. Data Loading & Analysis"
   ]
  },
  {
   "cell_type": "code",
   "execution_count": 2,
   "metadata": {},
   "outputs": [],
   "source": [
    "import pandas as pd\n",
    "\n",
    "# Read in track metadata with genre labels\n",
    "tracks_data = pd.read_csv('fma-rock-vs-hiphop.csv')\n",
    "\n",
    "# Read in track metrics with the features\n",
    "echonest_metrics_data = pd.read_json('echonest-metrics.json', precise_float = True)"
   ]
  },
  {
   "cell_type": "code",
   "execution_count": 3,
   "metadata": {},
   "outputs": [
    {
     "data": {
      "text/html": [
       "<div>\n",
       "<style scoped>\n",
       "    .dataframe tbody tr th:only-of-type {\n",
       "        vertical-align: middle;\n",
       "    }\n",
       "\n",
       "    .dataframe tbody tr th {\n",
       "        vertical-align: top;\n",
       "    }\n",
       "\n",
       "    .dataframe thead th {\n",
       "        text-align: right;\n",
       "    }\n",
       "</style>\n",
       "<table border=\"1\" class=\"dataframe\">\n",
       "  <thead>\n",
       "    <tr style=\"text-align: right;\">\n",
       "      <th></th>\n",
       "      <th>track_id</th>\n",
       "      <th>bit_rate</th>\n",
       "      <th>comments</th>\n",
       "      <th>composer</th>\n",
       "      <th>date_created</th>\n",
       "      <th>date_recorded</th>\n",
       "      <th>duration</th>\n",
       "      <th>favorites</th>\n",
       "      <th>genre_top</th>\n",
       "      <th>genres</th>\n",
       "      <th>...</th>\n",
       "      <th>information</th>\n",
       "      <th>interest</th>\n",
       "      <th>language_code</th>\n",
       "      <th>license</th>\n",
       "      <th>listens</th>\n",
       "      <th>lyricist</th>\n",
       "      <th>number</th>\n",
       "      <th>publisher</th>\n",
       "      <th>tags</th>\n",
       "      <th>title</th>\n",
       "    </tr>\n",
       "  </thead>\n",
       "  <tbody>\n",
       "    <tr>\n",
       "      <th>0</th>\n",
       "      <td>135</td>\n",
       "      <td>256000</td>\n",
       "      <td>1</td>\n",
       "      <td>NaN</td>\n",
       "      <td>2008-11-26 01:43:26</td>\n",
       "      <td>2008-11-26 00:00:00</td>\n",
       "      <td>837</td>\n",
       "      <td>0</td>\n",
       "      <td>Rock</td>\n",
       "      <td>[45, 58]</td>\n",
       "      <td>...</td>\n",
       "      <td>NaN</td>\n",
       "      <td>2484</td>\n",
       "      <td>en</td>\n",
       "      <td>Attribution-NonCommercial-ShareAlike 3.0 Inter...</td>\n",
       "      <td>1832</td>\n",
       "      <td>NaN</td>\n",
       "      <td>0</td>\n",
       "      <td>NaN</td>\n",
       "      <td>[]</td>\n",
       "      <td>Father's Day</td>\n",
       "    </tr>\n",
       "    <tr>\n",
       "      <th>1</th>\n",
       "      <td>136</td>\n",
       "      <td>256000</td>\n",
       "      <td>1</td>\n",
       "      <td>NaN</td>\n",
       "      <td>2008-11-26 01:43:35</td>\n",
       "      <td>2008-11-26 00:00:00</td>\n",
       "      <td>509</td>\n",
       "      <td>0</td>\n",
       "      <td>Rock</td>\n",
       "      <td>[45, 58]</td>\n",
       "      <td>...</td>\n",
       "      <td>NaN</td>\n",
       "      <td>1948</td>\n",
       "      <td>en</td>\n",
       "      <td>Attribution-NonCommercial-ShareAlike 3.0 Inter...</td>\n",
       "      <td>1498</td>\n",
       "      <td>NaN</td>\n",
       "      <td>0</td>\n",
       "      <td>NaN</td>\n",
       "      <td>[]</td>\n",
       "      <td>Peel Back The Mountain Sky</td>\n",
       "    </tr>\n",
       "    <tr>\n",
       "      <th>2</th>\n",
       "      <td>151</td>\n",
       "      <td>192000</td>\n",
       "      <td>0</td>\n",
       "      <td>NaN</td>\n",
       "      <td>2008-11-26 01:44:55</td>\n",
       "      <td>NaN</td>\n",
       "      <td>192</td>\n",
       "      <td>0</td>\n",
       "      <td>Rock</td>\n",
       "      <td>[25]</td>\n",
       "      <td>...</td>\n",
       "      <td>NaN</td>\n",
       "      <td>701</td>\n",
       "      <td>en</td>\n",
       "      <td>Attribution-NonCommercial-ShareAlike 3.0 Inter...</td>\n",
       "      <td>148</td>\n",
       "      <td>NaN</td>\n",
       "      <td>4</td>\n",
       "      <td>NaN</td>\n",
       "      <td>[]</td>\n",
       "      <td>Untitled 04</td>\n",
       "    </tr>\n",
       "    <tr>\n",
       "      <th>3</th>\n",
       "      <td>152</td>\n",
       "      <td>192000</td>\n",
       "      <td>0</td>\n",
       "      <td>NaN</td>\n",
       "      <td>2008-11-26 01:44:58</td>\n",
       "      <td>NaN</td>\n",
       "      <td>193</td>\n",
       "      <td>0</td>\n",
       "      <td>Rock</td>\n",
       "      <td>[25]</td>\n",
       "      <td>...</td>\n",
       "      <td>NaN</td>\n",
       "      <td>637</td>\n",
       "      <td>en</td>\n",
       "      <td>Attribution-NonCommercial-ShareAlike 3.0 Inter...</td>\n",
       "      <td>98</td>\n",
       "      <td>NaN</td>\n",
       "      <td>11</td>\n",
       "      <td>NaN</td>\n",
       "      <td>[]</td>\n",
       "      <td>Untitled 11</td>\n",
       "    </tr>\n",
       "    <tr>\n",
       "      <th>4</th>\n",
       "      <td>153</td>\n",
       "      <td>256000</td>\n",
       "      <td>0</td>\n",
       "      <td>Arc and Sender</td>\n",
       "      <td>2008-11-26 01:45:00</td>\n",
       "      <td>2008-11-26 00:00:00</td>\n",
       "      <td>405</td>\n",
       "      <td>5</td>\n",
       "      <td>Rock</td>\n",
       "      <td>[26]</td>\n",
       "      <td>...</td>\n",
       "      <td>NaN</td>\n",
       "      <td>354</td>\n",
       "      <td>en</td>\n",
       "      <td>Attribution-NonCommercial-NoDerivatives (aka M...</td>\n",
       "      <td>424</td>\n",
       "      <td>NaN</td>\n",
       "      <td>2</td>\n",
       "      <td>NaN</td>\n",
       "      <td>[]</td>\n",
       "      <td>Hundred-Year Flood</td>\n",
       "    </tr>\n",
       "  </tbody>\n",
       "</table>\n",
       "<p>5 rows × 21 columns</p>\n",
       "</div>"
      ],
      "text/plain": [
       "   track_id  bit_rate  comments        composer         date_created  \\\n",
       "0       135    256000         1             NaN  2008-11-26 01:43:26   \n",
       "1       136    256000         1             NaN  2008-11-26 01:43:35   \n",
       "2       151    192000         0             NaN  2008-11-26 01:44:55   \n",
       "3       152    192000         0             NaN  2008-11-26 01:44:58   \n",
       "4       153    256000         0  Arc and Sender  2008-11-26 01:45:00   \n",
       "\n",
       "         date_recorded  duration  favorites genre_top    genres  ...  \\\n",
       "0  2008-11-26 00:00:00       837          0      Rock  [45, 58]  ...   \n",
       "1  2008-11-26 00:00:00       509          0      Rock  [45, 58]  ...   \n",
       "2                  NaN       192          0      Rock      [25]  ...   \n",
       "3                  NaN       193          0      Rock      [25]  ...   \n",
       "4  2008-11-26 00:00:00       405          5      Rock      [26]  ...   \n",
       "\n",
       "  information interest  language_code  \\\n",
       "0         NaN     2484             en   \n",
       "1         NaN     1948             en   \n",
       "2         NaN      701             en   \n",
       "3         NaN      637             en   \n",
       "4         NaN      354             en   \n",
       "\n",
       "                                             license listens  lyricist number  \\\n",
       "0  Attribution-NonCommercial-ShareAlike 3.0 Inter...    1832       NaN      0   \n",
       "1  Attribution-NonCommercial-ShareAlike 3.0 Inter...    1498       NaN      0   \n",
       "2  Attribution-NonCommercial-ShareAlike 3.0 Inter...     148       NaN      4   \n",
       "3  Attribution-NonCommercial-ShareAlike 3.0 Inter...      98       NaN     11   \n",
       "4  Attribution-NonCommercial-NoDerivatives (aka M...     424       NaN      2   \n",
       "\n",
       "   publisher tags                       title  \n",
       "0        NaN   []                Father's Day  \n",
       "1        NaN   []  Peel Back The Mountain Sky  \n",
       "2        NaN   []                 Untitled 04  \n",
       "3        NaN   []                 Untitled 11  \n",
       "4        NaN   []          Hundred-Year Flood  \n",
       "\n",
       "[5 rows x 21 columns]"
      ]
     },
     "execution_count": 3,
     "metadata": {},
     "output_type": "execute_result"
    }
   ],
   "source": [
    "tracks_data.head()"
   ]
  },
  {
   "cell_type": "code",
   "execution_count": 4,
   "metadata": {},
   "outputs": [
    {
     "data": {
      "text/html": [
       "<div>\n",
       "<style scoped>\n",
       "    .dataframe tbody tr th:only-of-type {\n",
       "        vertical-align: middle;\n",
       "    }\n",
       "\n",
       "    .dataframe tbody tr th {\n",
       "        vertical-align: top;\n",
       "    }\n",
       "\n",
       "    .dataframe thead th {\n",
       "        text-align: right;\n",
       "    }\n",
       "</style>\n",
       "<table border=\"1\" class=\"dataframe\">\n",
       "  <thead>\n",
       "    <tr style=\"text-align: right;\">\n",
       "      <th></th>\n",
       "      <th>track_id</th>\n",
       "      <th>acousticness</th>\n",
       "      <th>danceability</th>\n",
       "      <th>energy</th>\n",
       "      <th>instrumentalness</th>\n",
       "      <th>liveness</th>\n",
       "      <th>speechiness</th>\n",
       "      <th>tempo</th>\n",
       "      <th>valence</th>\n",
       "    </tr>\n",
       "  </thead>\n",
       "  <tbody>\n",
       "    <tr>\n",
       "      <th>0</th>\n",
       "      <td>2</td>\n",
       "      <td>0.416675</td>\n",
       "      <td>0.675894</td>\n",
       "      <td>0.634476</td>\n",
       "      <td>0.010628</td>\n",
       "      <td>0.177647</td>\n",
       "      <td>0.159310</td>\n",
       "      <td>165.922</td>\n",
       "      <td>0.576661</td>\n",
       "    </tr>\n",
       "    <tr>\n",
       "      <th>1</th>\n",
       "      <td>3</td>\n",
       "      <td>0.374408</td>\n",
       "      <td>0.528643</td>\n",
       "      <td>0.817461</td>\n",
       "      <td>0.001851</td>\n",
       "      <td>0.105880</td>\n",
       "      <td>0.461818</td>\n",
       "      <td>126.957</td>\n",
       "      <td>0.269240</td>\n",
       "    </tr>\n",
       "    <tr>\n",
       "      <th>2</th>\n",
       "      <td>5</td>\n",
       "      <td>0.043567</td>\n",
       "      <td>0.745566</td>\n",
       "      <td>0.701470</td>\n",
       "      <td>0.000697</td>\n",
       "      <td>0.373143</td>\n",
       "      <td>0.124595</td>\n",
       "      <td>100.260</td>\n",
       "      <td>0.621661</td>\n",
       "    </tr>\n",
       "    <tr>\n",
       "      <th>3</th>\n",
       "      <td>10</td>\n",
       "      <td>0.951670</td>\n",
       "      <td>0.658179</td>\n",
       "      <td>0.924525</td>\n",
       "      <td>0.965427</td>\n",
       "      <td>0.115474</td>\n",
       "      <td>0.032985</td>\n",
       "      <td>111.562</td>\n",
       "      <td>0.963590</td>\n",
       "    </tr>\n",
       "    <tr>\n",
       "      <th>4</th>\n",
       "      <td>134</td>\n",
       "      <td>0.452217</td>\n",
       "      <td>0.513238</td>\n",
       "      <td>0.560410</td>\n",
       "      <td>0.019443</td>\n",
       "      <td>0.096567</td>\n",
       "      <td>0.525519</td>\n",
       "      <td>114.290</td>\n",
       "      <td>0.894072</td>\n",
       "    </tr>\n",
       "  </tbody>\n",
       "</table>\n",
       "</div>"
      ],
      "text/plain": [
       "   track_id  acousticness  danceability    energy  instrumentalness  liveness  \\\n",
       "0         2      0.416675      0.675894  0.634476          0.010628  0.177647   \n",
       "1         3      0.374408      0.528643  0.817461          0.001851  0.105880   \n",
       "2         5      0.043567      0.745566  0.701470          0.000697  0.373143   \n",
       "3        10      0.951670      0.658179  0.924525          0.965427  0.115474   \n",
       "4       134      0.452217      0.513238  0.560410          0.019443  0.096567   \n",
       "\n",
       "   speechiness    tempo   valence  \n",
       "0     0.159310  165.922  0.576661  \n",
       "1     0.461818  126.957  0.269240  \n",
       "2     0.124595  100.260  0.621661  \n",
       "3     0.032985  111.562  0.963590  \n",
       "4     0.525519  114.290  0.894072  "
      ]
     },
     "execution_count": 4,
     "metadata": {},
     "output_type": "execute_result"
    }
   ],
   "source": [
    "echonest_metrics_data.head()"
   ]
  },
  {
   "cell_type": "code",
   "execution_count": 5,
   "metadata": {},
   "outputs": [
    {
     "data": {
      "text/html": [
       "<div>\n",
       "<style scoped>\n",
       "    .dataframe tbody tr th:only-of-type {\n",
       "        vertical-align: middle;\n",
       "    }\n",
       "\n",
       "    .dataframe tbody tr th {\n",
       "        vertical-align: top;\n",
       "    }\n",
       "\n",
       "    .dataframe thead th {\n",
       "        text-align: right;\n",
       "    }\n",
       "</style>\n",
       "<table border=\"1\" class=\"dataframe\">\n",
       "  <thead>\n",
       "    <tr style=\"text-align: right;\">\n",
       "      <th></th>\n",
       "      <th>track_id</th>\n",
       "      <th>acousticness</th>\n",
       "      <th>danceability</th>\n",
       "      <th>energy</th>\n",
       "      <th>instrumentalness</th>\n",
       "      <th>liveness</th>\n",
       "      <th>speechiness</th>\n",
       "      <th>tempo</th>\n",
       "      <th>valence</th>\n",
       "      <th>genre_top</th>\n",
       "      <th>bit_rate</th>\n",
       "    </tr>\n",
       "  </thead>\n",
       "  <tbody>\n",
       "    <tr>\n",
       "      <th>0</th>\n",
       "      <td>2</td>\n",
       "      <td>0.416675</td>\n",
       "      <td>0.675894</td>\n",
       "      <td>0.634476</td>\n",
       "      <td>0.010628</td>\n",
       "      <td>0.177647</td>\n",
       "      <td>0.159310</td>\n",
       "      <td>165.922</td>\n",
       "      <td>0.576661</td>\n",
       "      <td>Hip-Hop</td>\n",
       "      <td>256000</td>\n",
       "    </tr>\n",
       "    <tr>\n",
       "      <th>1</th>\n",
       "      <td>3</td>\n",
       "      <td>0.374408</td>\n",
       "      <td>0.528643</td>\n",
       "      <td>0.817461</td>\n",
       "      <td>0.001851</td>\n",
       "      <td>0.105880</td>\n",
       "      <td>0.461818</td>\n",
       "      <td>126.957</td>\n",
       "      <td>0.269240</td>\n",
       "      <td>Hip-Hop</td>\n",
       "      <td>256000</td>\n",
       "    </tr>\n",
       "    <tr>\n",
       "      <th>2</th>\n",
       "      <td>5</td>\n",
       "      <td>0.043567</td>\n",
       "      <td>0.745566</td>\n",
       "      <td>0.701470</td>\n",
       "      <td>0.000697</td>\n",
       "      <td>0.373143</td>\n",
       "      <td>0.124595</td>\n",
       "      <td>100.260</td>\n",
       "      <td>0.621661</td>\n",
       "      <td>Hip-Hop</td>\n",
       "      <td>256000</td>\n",
       "    </tr>\n",
       "    <tr>\n",
       "      <th>3</th>\n",
       "      <td>134</td>\n",
       "      <td>0.452217</td>\n",
       "      <td>0.513238</td>\n",
       "      <td>0.560410</td>\n",
       "      <td>0.019443</td>\n",
       "      <td>0.096567</td>\n",
       "      <td>0.525519</td>\n",
       "      <td>114.290</td>\n",
       "      <td>0.894072</td>\n",
       "      <td>Hip-Hop</td>\n",
       "      <td>256000</td>\n",
       "    </tr>\n",
       "    <tr>\n",
       "      <th>4</th>\n",
       "      <td>153</td>\n",
       "      <td>0.988306</td>\n",
       "      <td>0.255661</td>\n",
       "      <td>0.979774</td>\n",
       "      <td>0.973006</td>\n",
       "      <td>0.121342</td>\n",
       "      <td>0.051740</td>\n",
       "      <td>90.241</td>\n",
       "      <td>0.034018</td>\n",
       "      <td>Rock</td>\n",
       "      <td>256000</td>\n",
       "    </tr>\n",
       "  </tbody>\n",
       "</table>\n",
       "</div>"
      ],
      "text/plain": [
       "   track_id  acousticness  danceability    energy  instrumentalness  liveness  \\\n",
       "0         2      0.416675      0.675894  0.634476          0.010628  0.177647   \n",
       "1         3      0.374408      0.528643  0.817461          0.001851  0.105880   \n",
       "2         5      0.043567      0.745566  0.701470          0.000697  0.373143   \n",
       "3       134      0.452217      0.513238  0.560410          0.019443  0.096567   \n",
       "4       153      0.988306      0.255661  0.979774          0.973006  0.121342   \n",
       "\n",
       "   speechiness    tempo   valence genre_top  bit_rate  \n",
       "0     0.159310  165.922  0.576661   Hip-Hop    256000  \n",
       "1     0.461818  126.957  0.269240   Hip-Hop    256000  \n",
       "2     0.124595  100.260  0.621661   Hip-Hop    256000  \n",
       "3     0.525519  114.290  0.894072   Hip-Hop    256000  \n",
       "4     0.051740   90.241  0.034018      Rock    256000  "
      ]
     },
     "execution_count": 5,
     "metadata": {},
     "output_type": "execute_result"
    }
   ],
   "source": [
    "# Merge the relevant columns of tracks and echonest_metrics\n",
    "echo_tracks_data = pd.merge(echonest_metrics_data, tracks_data[[\"track_id\", \"genre_top\", \"bit_rate\"]], on = \"track_id\")\n",
    "\n",
    "echo_tracks_data.head()"
   ]
  },
  {
   "cell_type": "code",
   "execution_count": 6,
   "metadata": {},
   "outputs": [
    {
     "name": "stdout",
     "output_type": "stream",
     "text": [
      "<class 'pandas.core.frame.DataFrame'>\n",
      "Int64Index: 4802 entries, 0 to 4801\n",
      "Data columns (total 11 columns):\n",
      " #   Column            Non-Null Count  Dtype  \n",
      "---  ------            --------------  -----  \n",
      " 0   track_id          4802 non-null   int64  \n",
      " 1   acousticness      4802 non-null   float64\n",
      " 2   danceability      4802 non-null   float64\n",
      " 3   energy            4802 non-null   float64\n",
      " 4   instrumentalness  4802 non-null   float64\n",
      " 5   liveness          4802 non-null   float64\n",
      " 6   speechiness       4802 non-null   float64\n",
      " 7   tempo             4802 non-null   float64\n",
      " 8   valence           4802 non-null   float64\n",
      " 9   genre_top         4802 non-null   object \n",
      " 10  bit_rate          4802 non-null   int64  \n",
      "dtypes: float64(8), int64(2), object(1)\n",
      "memory usage: 450.2+ KB\n"
     ]
    }
   ],
   "source": [
    "# Lets try to find additional Information about the data\n",
    "echo_tracks_data.info()"
   ]
  },
  {
   "cell_type": "markdown",
   "metadata": {},
   "source": [
    "**Observations:**\n",
    "- It has been identified from the data that there are no NaN values in the data."
   ]
  },
  {
   "cell_type": "markdown",
   "metadata": {},
   "source": [
    "### Univariate Analysis"
   ]
  },
  {
   "cell_type": "code",
   "execution_count": 7,
   "metadata": {},
   "outputs": [
    {
     "name": "stdout",
     "output_type": "stream",
     "text": [
      "Maximum value of acousticness : 0.9957964501\n",
      "Minimum value of acousticness : 9.491e-07\n",
      "Average value of acousticness : 0.48705999919643883\n"
     ]
    }
   ],
   "source": [
    "# On acousticness\n",
    "print('Maximum value of acousticness :', echo_tracks_data['acousticness'].max())\n",
    "print('Minimum value of acousticness :', echo_tracks_data['acousticness'].min())\n",
    "print('Average value of acousticness :', echo_tracks_data['acousticness'].mean())"
   ]
  },
  {
   "cell_type": "code",
   "execution_count": 8,
   "metadata": {},
   "outputs": [
    {
     "name": "stdout",
     "output_type": "stream",
     "text": [
      "Lable For Maximum value of acousticness :\n",
      " 367    Rock\n",
      "Name: genre_top, dtype: object\n",
      "--------------------------------------------------------------------------------------------------------------\n",
      "Lable For Minimum value of acousticness :\n",
      " 3518    Rock\n",
      "Name: genre_top, dtype: object\n"
     ]
    }
   ],
   "source": [
    "print('Lable For Maximum value of acousticness :\\n', echo_tracks_data[echo_tracks_data['acousticness'] == echo_tracks_data['acousticness'].max()]['genre_top'].head(1))\n",
    "\n",
    "print('-' * 110)\n",
    "\n",
    "print('Lable For Minimum value of acousticness :\\n', echo_tracks_data[echo_tracks_data['acousticness'] == echo_tracks_data['acousticness'].min()]['genre_top'].head(1))"
   ]
  },
  {
   "cell_type": "code",
   "execution_count": 9,
   "metadata": {},
   "outputs": [
    {
     "name": "stdout",
     "output_type": "stream",
     "text": [
      "Maximum value of danceability : 0.9618706942\n",
      "Minimum value of danceability : 0.051307487\n",
      "Average value of danceability : 0.4365556605918154\n"
     ]
    }
   ],
   "source": [
    "# On danceability\n",
    "print('Maximum value of danceability :', echo_tracks_data['danceability'].max())\n",
    "print('Minimum value of danceability :', echo_tracks_data['danceability'].min())\n",
    "print('Average value of danceability :', echo_tracks_data['danceability'].mean())"
   ]
  },
  {
   "cell_type": "code",
   "execution_count": 10,
   "metadata": {},
   "outputs": [
    {
     "name": "stdout",
     "output_type": "stream",
     "text": [
      "Lable For Maximum value of danceability :\n",
      " 4528    Hip-Hop\n",
      "Name: genre_top, dtype: object\n",
      "--------------------------------------------------------------------------------------------------------------\n",
      "Lable For Minimum value of danceability :\n",
      " 706    Rock\n",
      "Name: genre_top, dtype: object\n"
     ]
    }
   ],
   "source": [
    "print('Lable For Maximum value of danceability :\\n', echo_tracks_data[echo_tracks_data['danceability'] == echo_tracks_data['danceability'].max()]['genre_top'])\n",
    "\n",
    "print('-' * 110)\n",
    "\n",
    "print('Lable For Minimum value of danceability :\\n', echo_tracks_data[echo_tracks_data['danceability'] == echo_tracks_data['danceability'].min()]['genre_top'])"
   ]
  },
  {
   "cell_type": "code",
   "execution_count": 11,
   "metadata": {},
   "outputs": [
    {
     "name": "stdout",
     "output_type": "stream",
     "text": [
      "Maximum value of energy : 0.999767599\n",
      "Minimum value of energy : 0.000278548\n",
      "Average value of energy : 0.6251262115613291\n"
     ]
    }
   ],
   "source": [
    "# On energy\n",
    "print('Maximum value of energy :', echo_tracks_data['energy'].max())\n",
    "print('Minimum value of energy :', echo_tracks_data['energy'].min())\n",
    "print('Average value of energy :', echo_tracks_data['energy'].mean())"
   ]
  },
  {
   "cell_type": "code",
   "execution_count": 12,
   "metadata": {},
   "outputs": [
    {
     "name": "stdout",
     "output_type": "stream",
     "text": [
      "Lable For Maximum value of energy :\n",
      " 1326    Rock\n",
      "Name: genre_top, dtype: object\n",
      "--------------------------------------------------------------------------------------------------------------\n",
      "Lable For Minimum value of energy :\n",
      " 2151    Rock\n",
      "Name: genre_top, dtype: object\n"
     ]
    }
   ],
   "source": [
    "print('Lable For Maximum value of energy :\\n', echo_tracks_data[echo_tracks_data['energy'] == echo_tracks_data['energy'].max()]['genre_top'].head(1))\n",
    "\n",
    "print('-' * 110)\n",
    "\n",
    "print('Lable For Minimum value of energy :\\n', echo_tracks_data[echo_tracks_data['energy'] == echo_tracks_data['energy'].min()]['genre_top'].head(1))"
   ]
  },
  {
   "cell_type": "code",
   "execution_count": 13,
   "metadata": {},
   "outputs": [
    {
     "name": "stdout",
     "output_type": "stream",
     "text": [
      "Maximum value of instrumentalness : 0.9931342795\n",
      "Minimum value of instrumentalness : 0.0\n",
      "Average value of instrumentalness : 0.6040961494866335\n"
     ]
    }
   ],
   "source": [
    "# On instrumentalness\n",
    "print('Maximum value of instrumentalness :', echo_tracks_data['instrumentalness'].max())\n",
    "print('Minimum value of instrumentalness :', echo_tracks_data['instrumentalness'].min())\n",
    "print('Average value of instrumentalness :', echo_tracks_data['instrumentalness'].mean())"
   ]
  },
  {
   "cell_type": "code",
   "execution_count": 14,
   "metadata": {},
   "outputs": [
    {
     "name": "stdout",
     "output_type": "stream",
     "text": [
      "Lable For Maximum value of instrumentalness :\n",
      " 4699    Rock\n",
      "Name: genre_top, dtype: object\n",
      "--------------------------------------------------------------------------------------------------------------\n",
      "Lable For Minimum value of instrumentalness :\n",
      " 721    Rock\n",
      "Name: genre_top, dtype: object\n"
     ]
    }
   ],
   "source": [
    "print('Lable For Maximum value of instrumentalness :\\n', echo_tracks_data[echo_tracks_data['instrumentalness'] == echo_tracks_data['instrumentalness'].max()]['genre_top'].head(1))\n",
    "\n",
    "print('-' * 110)\n",
    "\n",
    "print('Lable For Minimum value of instrumentalness :\\n', echo_tracks_data[echo_tracks_data['instrumentalness'] == echo_tracks_data['instrumentalness'].min()]['genre_top'].head(1))"
   ]
  },
  {
   "cell_type": "code",
   "execution_count": 15,
   "metadata": {},
   "outputs": [
    {
     "name": "stdout",
     "output_type": "stream",
     "text": [
      "Maximum value of liveness : 0.9713922939\n",
      "Minimum value of liveness : 0.0252973415\n",
      "Average value of liveness : 0.1879973580633279\n"
     ]
    }
   ],
   "source": [
    "# On liveness\n",
    "print('Maximum value of liveness :', echo_tracks_data['liveness'].max())\n",
    "print('Minimum value of liveness :', echo_tracks_data['liveness'].min())\n",
    "print('Average value of liveness :', echo_tracks_data['liveness'].mean())"
   ]
  },
  {
   "cell_type": "code",
   "execution_count": 16,
   "metadata": {},
   "outputs": [
    {
     "name": "stdout",
     "output_type": "stream",
     "text": [
      "Lable For Maximum value of liveness :\n",
      " 3246    Rock\n",
      "Name: genre_top, dtype: object\n",
      "--------------------------------------------------------------------------------------------------------------\n",
      "Lable For Minimum value of liveness :\n",
      " 1413    Rock\n",
      "Name: genre_top, dtype: object\n"
     ]
    }
   ],
   "source": [
    "print('Lable For Maximum value of liveness :\\n', echo_tracks_data[echo_tracks_data['liveness'] == echo_tracks_data['liveness'].max()]['genre_top'].head(1))\n",
    "\n",
    "print('-' * 110)\n",
    "\n",
    "print('Lable For Minimum value of liveness :\\n', echo_tracks_data[echo_tracks_data['liveness'] == echo_tracks_data['liveness'].min()]['genre_top'].head(1))"
   ]
  },
  {
   "cell_type": "code",
   "execution_count": 17,
   "metadata": {},
   "outputs": [
    {
     "name": "stdout",
     "output_type": "stream",
     "text": [
      "Maximum value of speechiness : 0.9661774074\n",
      "Minimum value of speechiness : 0.0232337297\n",
      "Average value of speechiness : 0.10487721352194919\n"
     ]
    }
   ],
   "source": [
    "# On speechiness\n",
    "print('Maximum value of speechiness :', echo_tracks_data['speechiness'].max())\n",
    "print('Minimum value of speechiness :', echo_tracks_data['speechiness'].min())\n",
    "print('Average value of speechiness :', echo_tracks_data['speechiness'].mean())"
   ]
  },
  {
   "cell_type": "code",
   "execution_count": 18,
   "metadata": {},
   "outputs": [
    {
     "name": "stdout",
     "output_type": "stream",
     "text": [
      "Lable For Maximum value of speechiness :\n",
      " 1842    Hip-Hop\n",
      "Name: genre_top, dtype: object\n",
      "--------------------------------------------------------------------------------------------------------------\n",
      "Lable For Minimum value of speechiness :\n",
      " 1695    Hip-Hop\n",
      "Name: genre_top, dtype: object\n"
     ]
    }
   ],
   "source": [
    "print('Lable For Maximum value of speechiness :\\n', echo_tracks_data[echo_tracks_data['speechiness'] == echo_tracks_data['speechiness'].max()]['genre_top'].head(1))\n",
    "\n",
    "print('-' * 110)\n",
    "\n",
    "print('Lable For Minimum value of speechiness :\\n', echo_tracks_data[echo_tracks_data['speechiness'] == echo_tracks_data['speechiness'].min()]['genre_top'].head(1))"
   ]
  },
  {
   "cell_type": "code",
   "execution_count": 19,
   "metadata": {},
   "outputs": [
    {
     "name": "stdout",
     "output_type": "stream",
     "text": [
      "Maximum value of tempo : 250.059\n",
      "Minimum value of tempo : 29.093\n",
      "Average value of tempo : 126.68794377342789\n"
     ]
    }
   ],
   "source": [
    "# On tempo\n",
    "print('Maximum value of tempo :', echo_tracks_data['tempo'].max())\n",
    "print('Minimum value of tempo :', echo_tracks_data['tempo'].min())\n",
    "print('Average value of tempo :', echo_tracks_data['tempo'].mean())"
   ]
  },
  {
   "cell_type": "code",
   "execution_count": 20,
   "metadata": {},
   "outputs": [
    {
     "name": "stdout",
     "output_type": "stream",
     "text": [
      "Lable For Maximum value of tempo :\n",
      " 177    Rock\n",
      "Name: genre_top, dtype: object\n",
      "--------------------------------------------------------------------------------------------------------------\n",
      "Lable For Minimum value of tempo :\n",
      " 2234    Rock\n",
      "Name: genre_top, dtype: object\n"
     ]
    }
   ],
   "source": [
    "print('Lable For Maximum value of tempo :\\n', echo_tracks_data[echo_tracks_data['tempo'] == echo_tracks_data['tempo'].max()]['genre_top'].head(1))\n",
    "\n",
    "print('-' * 110)\n",
    "\n",
    "print('Lable For Minimum value of tempo :\\n', echo_tracks_data[echo_tracks_data['tempo'] == echo_tracks_data['tempo'].min()]['genre_top'].head(1))"
   ]
  },
  {
   "cell_type": "code",
   "execution_count": 21,
   "metadata": {},
   "outputs": [
    {
     "name": "stdout",
     "output_type": "stream",
     "text": [
      "Maximum value of valence : 0.9836492001\n",
      "Minimum value of valence : 0.0143921742\n",
      "Average value of valence : 0.45341338699214856\n"
     ]
    }
   ],
   "source": [
    "# On valence\n",
    "print('Maximum value of valence :', echo_tracks_data['valence'].max())\n",
    "print('Minimum value of valence :', echo_tracks_data['valence'].min())\n",
    "print('Average value of valence :', echo_tracks_data['valence'].mean())"
   ]
  },
  {
   "cell_type": "code",
   "execution_count": 22,
   "metadata": {},
   "outputs": [
    {
     "name": "stdout",
     "output_type": "stream",
     "text": [
      "Lable For Maximum value of valence :\n",
      " 2316    Rock\n",
      "Name: genre_top, dtype: object\n",
      "--------------------------------------------------------------------------------------------------------------\n",
      "Lable For Minimum value of valence :\n",
      " 4146    Rock\n",
      "Name: genre_top, dtype: object\n"
     ]
    }
   ],
   "source": [
    "print('Lable For Maximum value of valence :\\n', echo_tracks_data[echo_tracks_data['valence'] == echo_tracks_data['valence'].max()]['genre_top'].head(1))\n",
    "\n",
    "print('-' * 110)\n",
    "\n",
    "print('Lable For Minimum value of valence :\\n', echo_tracks_data[echo_tracks_data['valence'] == echo_tracks_data['valence'].min()]['genre_top'].head(1))"
   ]
  },
  {
   "cell_type": "code",
   "execution_count": 23,
   "metadata": {},
   "outputs": [
    {
     "name": "stdout",
     "output_type": "stream",
     "text": [
      "Maximum value of bit_rate : 448000\n",
      "Minimum value of bit_rate : -1\n",
      "Average value of bit_rate : 246125.9925031237\n"
     ]
    }
   ],
   "source": [
    "# On bit_rate\n",
    "print('Maximum value of bit_rate :', echo_tracks_data['bit_rate'].max())\n",
    "print('Minimum value of bit_rate :', echo_tracks_data['bit_rate'].min())\n",
    "print('Average value of bit_rate :', echo_tracks_data['bit_rate'].mean())"
   ]
  },
  {
   "cell_type": "code",
   "execution_count": 24,
   "metadata": {},
   "outputs": [
    {
     "name": "stdout",
     "output_type": "stream",
     "text": [
      "Lable For Maximum value of bit_rate :\n",
      " 3238    Rock\n",
      "Name: genre_top, dtype: object\n",
      "--------------------------------------------------------------------------------------------------------------\n",
      "Lable For Minimum value of bit_rate :\n",
      " 1166    Rock\n",
      "Name: genre_top, dtype: object\n"
     ]
    }
   ],
   "source": [
    "print('Lable For Maximum value of bit_rate :\\n', echo_tracks_data[echo_tracks_data['bit_rate'] == echo_tracks_data['bit_rate'].max()]['genre_top'].head(1))\n",
    "\n",
    "print('-' * 110)\n",
    "\n",
    "print('Lable For Minimum value of bit_rate :\\n', echo_tracks_data[echo_tracks_data['bit_rate'] == echo_tracks_data['bit_rate'].min()]['genre_top'].head(1))"
   ]
  },
  {
   "cell_type": "code",
   "execution_count": 25,
   "metadata": {},
   "outputs": [
    {
     "data": {
      "text/plain": [
       "Index(['track_id', 'acousticness', 'danceability', 'energy',\n",
       "       'instrumentalness', 'liveness', 'speechiness', 'tempo', 'valence',\n",
       "       'genre_top', 'bit_rate'],\n",
       "      dtype='object')"
      ]
     },
     "execution_count": 25,
     "metadata": {},
     "output_type": "execute_result"
    }
   ],
   "source": [
    "echo_tracks_data.columns"
   ]
  },
  {
   "cell_type": "markdown",
   "metadata": {},
   "source": [
    "**Observations:**\n",
    "- Nothing much sense of Labels and Trends can be analysed from the Univariate analysis of the Features."
   ]
  },
  {
   "cell_type": "markdown",
   "metadata": {},
   "source": [
    "## Bi-Variate Analysis"
   ]
  },
  {
   "cell_type": "code",
   "execution_count": 26,
   "metadata": {},
   "outputs": [
    {
     "data": {
      "text/plain": [
       "<AxesSubplot:>"
      ]
     },
     "execution_count": 26,
     "metadata": {},
     "output_type": "execute_result"
    },
    {
     "data": {
      "image/png": "[encoded data removed]",
      "text/plain": [
       "<Figure size 864x864 with 2 Axes>"
      ]
     },
     "metadata": {
      "needs_background": "light"
     },
     "output_type": "display_data"
    }
   ],
   "source": [
    "echo_tracks_data['genre_top'].replace('Rock', 0, inplace = True)\n",
    "echo_tracks_data['genre_top'].replace('Hip-Hop', 1,inplace = True)\n",
    "\n",
    "# Create a correlation matrix\n",
    "corr_metrics = echo_tracks_data.corr()\n",
    "fig = plt.figure(figsize = (12,12))\n",
    "sns.heatmap(corr_metrics, square = True, cmap = \"coolwarm\", annot = True)"
   ]
  },
  {
   "cell_type": "markdown",
   "metadata": {},
   "source": [
    "**Observations:**\n",
    "- It can be observed that 'genre_top' has some co-relation with 'danceability' and 'speechiness'.\n",
    "- But at the same time 'danceability' and 'speechiness' have some co-relation."
   ]
  },
  {
   "cell_type": "markdown",
   "metadata": {},
   "source": [
    "## Data Standardization"
   ]
  },
  {
   "cell_type": "markdown",
   "metadata": {},
   "source": [
    "- As mentioned earlier, it can be particularly useful to simplify our models and use as few features as necessary to achieve the best result. \n",
    "- Since we didn't find any particular strong correlations between our features, we can instead use a common approach to reduce the number of features called Principal Component Analysis (PCA).\n",
    "- However, since PCA uses the absolute variance of a feature to rotate the data, a feature with a broader range of values will overpower and bias the algorithm relative to the other features. To avoid this, we must first Standardize our data."
   ]
  },
  {
   "cell_type": "code",
   "execution_count": 27,
   "metadata": {},
   "outputs": [],
   "source": [
    "# Define our features \n",
    "x = echo_tracks_data.drop(['genre_top','track_id'], axis = 1)\n",
    "\n",
    "# Define our labels\n",
    "y = echo_tracks_data['genre_top']\n",
    "\n",
    "# Initializing StandardScaler\n",
    "sc = StandardScaler()\n",
    "\n",
    "# Scale the features and set the values to a new variable\n",
    "x = sc.fit_transform(x)"
   ]
  },
  {
   "cell_type": "markdown",
   "metadata": {},
   "source": [
    "## Applying PCA"
   ]
  },
  {
   "cell_type": "markdown",
   "metadata": {},
   "source": [
    "- Now that we have preprocessed our data, we are ready to use PCA to determine by how much we can reduce the dimensionality of our data.\n",
    "- PCA rotates the data along the axis of highest variance, thus allowing us to determine the relative contribution of each feature of our data towards the variance between classes."
   ]
  },
  {
   "cell_type": "code",
   "execution_count": 28,
   "metadata": {},
   "outputs": [],
   "source": [
    "# Initializing PCA\n",
    "pca = PCA()\n",
    "\n",
    "# Applying PCA\n",
    "pca.fit(x)\n",
    "exp_variance = pca.explained_variance_ratio_"
   ]
  },
  {
   "cell_type": "code",
   "execution_count": 29,
   "metadata": {},
   "outputs": [
    {
     "data": {
      "text/plain": [
       "Text(0.5, 0, 'Principal Components #')"
      ]
     },
     "execution_count": 29,
     "metadata": {},
     "output_type": "execute_result"
    },
    {
     "data": {
      "image/png": "[encoded data removed]",
      "text/plain": [
       "<Figure size 432x288 with 1 Axes>"
      ]
     },
     "metadata": {
      "needs_background": "light"
     },
     "output_type": "display_data"
    }
   ],
   "source": [
    "# plot the explained variance using a barplot\n",
    "fig, ax = plt.subplots()\n",
    "ax.bar(range(9), exp_variance)\n",
    "ax.set_xlabel('Principal Components #')"
   ]
  },
  {
   "cell_type": "markdown",
   "metadata": {},
   "source": [
    "### Visualization Using Scree Plot"
   ]
  },
  {
   "cell_type": "markdown",
   "metadata": {},
   "source": [
    "- Scree-plots display the number of components against the variance explained by each component, sorted in descending order of variance. \n",
    "- Scree-plots help us get a better sense of which components explain a sufficient amount of variance in our data."
   ]
  },
  {
   "cell_type": "code",
   "execution_count": 30,
   "metadata": {},
   "outputs": [
    {
     "data": {
      "image/png": "[encoded data removed]",
      "text/plain": [
       "<Figure size 432x288 with 1 Axes>"
      ]
     },
     "metadata": {
      "needs_background": "light"
     },
     "output_type": "display_data"
    }
   ],
   "source": [
    "# Calculate the cumulative explained variance\n",
    "cum_exp_variance = np.cumsum(exp_variance)\n",
    "\n",
    "# Plot the cumulative explained variance and draw a dashed line at 0.90.\n",
    "fig, ax = plt.subplots()\n",
    "ax.plot(range(9), cum_exp_variance)\n",
    "ax.axhline(y = 0.9, linestyle='--')\n",
    "n_components = 6\n",
    "\n",
    "# Perform PCA with the chosen number of components and project data onto components\n",
    "pca = PCA(n_components, random_state = 10)\n",
    "\n",
    "# Fitting the PCA \n",
    "pca.fit(x)\n",
    "\n",
    "# Projecting them\n",
    "pca_projection = pca.transform(x)"
   ]
  },
  {
   "cell_type": "markdown",
   "metadata": {},
   "source": [
    "**Observations:**\n",
    "- From the above graph it has cleared that about 6 Variables explains the 90% of Variance. So we can go for considering 6 Features to train our Model"
   ]
  },
  {
   "cell_type": "code",
   "execution_count": 35,
   "metadata": {
    "scrolled": true
   },
   "outputs": [
    {
     "name": "stdout",
     "output_type": "stream",
     "text": [
      "Total Number of Songs having genere Hip-Hop : 910\n",
      "Total Number of Songs having genere Rock    : 3892\n"
     ]
    }
   ],
   "source": [
    "# Getting seperated data with 1 and 0 status.\n",
    "print('Total Number of Songs having genere Hip-Hop :', sum(echo_tracks_data.genre_top == 1))\n",
    "print('Total Number of Songs having genere Rock    :', sum(echo_tracks_data.genre_top == 0))"
   ]
  },
  {
   "cell_type": "markdown",
   "metadata": {},
   "source": [
    "**Observations:**\n",
    "- Data is highly imbalanced. We need to balance it by using data balancing techniques.\n",
    "- There are more chances that the model would Underfit."
   ]
  },
  {
   "cell_type": "markdown",
   "metadata": {},
   "source": [
    "# 3. Modeling"
   ]
  },
  {
   "cell_type": "markdown",
   "metadata": {},
   "source": [
    "## Experiment 1: With Only Scaled Data"
   ]
  },
  {
   "cell_type": "markdown",
   "metadata": {},
   "source": [
    "### Train - Test Splitting"
   ]
  },
  {
   "cell_type": "code",
   "execution_count": 36,
   "metadata": {},
   "outputs": [],
   "source": [
    "# Split our data\n",
    "x_train, x_test, y_train, y_test = train_test_split(pca_projection, y, random_state = 10)"
   ]
  },
  {
   "cell_type": "markdown",
   "metadata": {},
   "source": [
    "### 1. KNN"
   ]
  },
  {
   "cell_type": "code",
   "execution_count": 44,
   "metadata": {},
   "outputs": [
    {
     "name": "stdout",
     "output_type": "stream",
     "text": [
      "Fitting 5 folds for each of 12 candidates, totalling 60 fits\n"
     ]
    },
    {
     "name": "stderr",
     "output_type": "stream",
     "text": [
      "[Parallel(n_jobs=-1)]: Using backend LokyBackend with 4 concurrent workers.\n",
      "[Parallel(n_jobs=-1)]: Done  53 out of  60 | elapsed:    1.6s remaining:    0.1s\n",
      "[Parallel(n_jobs=-1)]: Done  60 out of  60 | elapsed:    1.7s finished\n"
     ]
    }
   ],
   "source": [
    "# Model - 1 ----- KNN\n",
    "\n",
    "# Tuning Hyper-Parameters\n",
    "grid_parameters = {'n_neighbors' : [3,5,7,9,11,13], 'weights' : ['uniform', 'distance'], }\n",
    "\n",
    "# Making Classifier Ready\n",
    "model_1_knn = GridSearchCV(KNeighborsClassifier(), grid_parameters, verbose = 1, cv = 5, n_jobs = -1)\n",
    "\n",
    "# Training The Model\n",
    "model_1_knn.fit(x_train, y_train)\n",
    "\n",
    "# Finding best_estimator\n",
    "model_1_knn_best = model_1_knn.best_estimator_"
   ]
  },
  {
   "cell_type": "code",
   "execution_count": 45,
   "metadata": {},
   "outputs": [
    {
     "name": "stdout",
     "output_type": "stream",
     "text": [
      "Best Parameters For KNN :  {'n_neighbors': 9, 'weights': 'distance'}\n"
     ]
    }
   ],
   "source": [
    "# Predicting Model\n",
    "y_pred_knn = model_1_knn_best.predict(x_test)\n",
    "\n",
    "print (\"Best Parameters For KNN : \",model_1_knn.best_params_)"
   ]
  },
  {
   "cell_type": "code",
   "execution_count": 46,
   "metadata": {},
   "outputs": [
    {
     "name": "stdout",
     "output_type": "stream",
     "text": [
      "Training Accuracy For KNN :\n",
      "1.0\n",
      "--------------------------------------------------------------------------------------------------------------\n",
      "\n",
      "Test Accuracy For KNN:  0.9134054954204829\n",
      "--------------------------------------------------------------------------------------------------------------\n",
      "\n",
      "AUC For KNN :\n",
      "0.8254151799480199\n",
      "--------------------------------------------------------------------------------------------------------------\n",
      "\n",
      "Confusion Matrix For KNN :\n",
      "[[937  29]\n",
      " [ 75 160]]\n",
      "--------------------------------------------------------------------------------------------------------------\n",
      "\n",
      "Classification Report For KNN :\n",
      "              precision    recall  f1-score   support\n",
      "\n",
      "           0       0.93      0.97      0.95       966\n",
      "           1       0.85      0.68      0.75       235\n",
      "\n",
      "    accuracy                           0.91      1201\n",
      "   macro avg       0.89      0.83      0.85      1201\n",
      "weighted avg       0.91      0.91      0.91      1201\n",
      "\n"
     ]
    }
   ],
   "source": [
    "# Evaluation\n",
    "\n",
    "print(\"Training Accuracy For KNN :\")\n",
    "print(model_1_knn_best.score(x_train, y_train))\n",
    "\n",
    "print('-'*110)\n",
    "\n",
    "print(\"\\nTest Accuracy For KNN: \", accuracy_score(y_pred_knn , y_test))\n",
    "\n",
    "print('-'*110)\n",
    "\n",
    "print(\"\\nAUC For KNN :\")\n",
    "print(roc_auc_score(y_test, y_pred_knn))\n",
    "\n",
    "print('-'*110)\n",
    "\n",
    "print(\"\\nConfusion Matrix For KNN :\")\n",
    "print(confusion_matrix(y_test, y_pred_knn))\n",
    "\n",
    "print('-'*110)\n",
    "print(\"\\nClassification Report For KNN :\")\n",
    "print(classification_report(y_test, y_pred_knn))"
   ]
  },
  {
   "cell_type": "markdown",
   "metadata": {},
   "source": [
    "### 2. Gaussian Naive Bayes"
   ]
  },
  {
   "cell_type": "code",
   "execution_count": 47,
   "metadata": {},
   "outputs": [
    {
     "name": "stdout",
     "output_type": "stream",
     "text": [
      "Fitting 5 folds for each of 1 candidates, totalling 5 fits\n"
     ]
    },
    {
     "name": "stderr",
     "output_type": "stream",
     "text": [
      "[Parallel(n_jobs=-1)]: Using backend LokyBackend with 4 concurrent workers.\n",
      "[Parallel(n_jobs=-1)]: Done   5 out of   5 | elapsed:    0.0s finished\n"
     ]
    }
   ],
   "source": [
    "# Model - 2 ----- Gaussian NB\n",
    "\n",
    "# Tuning Hyper-Parameters\n",
    "grid_parameters = {}\n",
    "\n",
    "# Making Classifier Ready\n",
    "model_2_nb = GridSearchCV(GaussianNB(), grid_parameters, verbose = 1, cv = 5, n_jobs = -1)\n",
    "\n",
    "# Training The Model\n",
    "model_2_nb.fit(x_train, y_train)\n",
    "\n",
    "# Finding best_estimator\n",
    "model_2_nb_best = model_2_nb.best_estimator_"
   ]
  },
  {
   "cell_type": "code",
   "execution_count": 48,
   "metadata": {},
   "outputs": [
    {
     "name": "stdout",
     "output_type": "stream",
     "text": [
      "Best Parameters For Naive Bayes :  {}\n"
     ]
    }
   ],
   "source": [
    "# Predicting Model\n",
    "y_pred_nb = model_2_nb_best.predict(x_test)\n",
    "\n",
    "print (\"Best Parameters For Naive Bayes : \",model_2_nb.best_params_)"
   ]
  },
  {
   "cell_type": "code",
   "execution_count": 49,
   "metadata": {},
   "outputs": [
    {
     "name": "stdout",
     "output_type": "stream",
     "text": [
      "Training Accuracy For Naive Bayes :\n",
      "0.8855873368508748\n",
      "--------------------------------------------------------------------------------------------------------------\n",
      "\n",
      "Test Accuracy For Naive Bayes: \n",
      "0.8742714404662781\n",
      "--------------------------------------------------------------------------------------------------------------\n",
      "\n",
      "AUC For Naive Bayes :\n",
      "0.7560063433328927\n",
      "--------------------------------------------------------------------------------------------------------------\n",
      "\n",
      "Confusion Matrix For Naive Bayes :\n",
      "[[918  48]\n",
      " [103 132]]\n",
      "--------------------------------------------------------------------------------------------------------------\n",
      "\n",
      "Classification Report For Naive Bayes :\n",
      "              precision    recall  f1-score   support\n",
      "\n",
      "           0       0.90      0.95      0.92       966\n",
      "           1       0.73      0.56      0.64       235\n",
      "\n",
      "    accuracy                           0.87      1201\n",
      "   macro avg       0.82      0.76      0.78      1201\n",
      "weighted avg       0.87      0.87      0.87      1201\n",
      "\n"
     ]
    }
   ],
   "source": [
    "# Evaluation\n",
    "\n",
    "print(\"Training Accuracy For Naive Bayes :\")\n",
    "print(model_2_nb_best.score(x_train, y_train))\n",
    "\n",
    "print('-'*110)\n",
    "\n",
    "print(\"\\nTest Accuracy For Naive Bayes: \")\n",
    "print(accuracy_score(y_pred_nb , y_test))\n",
    "print('-'*110)\n",
    "\n",
    "print(\"\\nAUC For Naive Bayes :\")\n",
    "print(roc_auc_score(y_test, y_pred_nb))\n",
    "\n",
    "print('-'*110)\n",
    "\n",
    "print(\"\\nConfusion Matrix For Naive Bayes :\")\n",
    "print(confusion_matrix(y_test, y_pred_nb))\n",
    "\n",
    "print('-'*110)\n",
    "print(\"\\nClassification Report For Naive Bayes :\")\n",
    "print(classification_report(y_test, y_pred_nb))"
   ]
  },
  {
   "cell_type": "markdown",
   "metadata": {},
   "source": [
    "### 3. Logistic Regression"
   ]
  },
  {
   "cell_type": "code",
   "execution_count": 50,
   "metadata": {},
   "outputs": [
    {
     "name": "stdout",
     "output_type": "stream",
     "text": [
      "Fitting 3 folds for each of 12 candidates, totalling 36 fits\n"
     ]
    },
    {
     "name": "stderr",
     "output_type": "stream",
     "text": [
      "[Parallel(n_jobs=-1)]: Using backend LokyBackend with 4 concurrent workers.\n",
      "[Parallel(n_jobs=-1)]: Done  29 out of  36 | elapsed:    0.9s remaining:    0.1s\n",
      "[Parallel(n_jobs=-1)]: Done  36 out of  36 | elapsed:    0.9s finished\n"
     ]
    }
   ],
   "source": [
    "# Model - 3 ----- Logistic Regression\n",
    "\n",
    "# Tuning Hyper-Parameters\n",
    "grid_parameters = {'penalty': ['l1','l2'], 'C': [0.001,0.01,0.1,1,10,100]}\n",
    "\n",
    "# Making Classifier Ready\n",
    "model_3_lr = GridSearchCV(LogisticRegression(fit_intercept = True,), grid_parameters, verbose = 1, cv = 3, n_jobs = -1)\n",
    "\n",
    "# Training The Model\n",
    "model_3_lr.fit(x_train, y_train)\n",
    "\n",
    "# Finding best_estimator\n",
    "model_3_lr_best = model_3_lr.best_estimator_"
   ]
  },
  {
   "cell_type": "code",
   "execution_count": 51,
   "metadata": {},
   "outputs": [
    {
     "name": "stdout",
     "output_type": "stream",
     "text": [
      "Best Parameters For Logistic Regression :  {'C': 0.1, 'penalty': 'l2'}\n"
     ]
    }
   ],
   "source": [
    "# Predicting Model\n",
    "y_pred_lr = model_3_lr_best.predict(x_test)\n",
    "\n",
    "print (\"Best Parameters For Logistic Regression : \",model_3_lr.best_params_)"
   ]
  },
  {
   "cell_type": "code",
   "execution_count": 52,
   "metadata": {},
   "outputs": [
    {
     "name": "stdout",
     "output_type": "stream",
     "text": [
      "Training Accuracy For Logistic Regression :\n",
      "0.8753124132185504\n",
      "--------------------------------------------------------------------------------------------------------------\n",
      "\n",
      "Test Accuracy For Logistic Regression: \n",
      "0.8776019983347211\n",
      "--------------------------------------------------------------------------------------------------------------\n",
      "\n",
      "AUC For Logistic Regression :\n",
      "0.7516364917845028\n",
      "--------------------------------------------------------------------------------------------------------------\n",
      "\n",
      "Confusion Matrix For Logistic Regression :\n",
      "[[926  40]\n",
      " [107 128]]\n",
      "--------------------------------------------------------------------------------------------------------------\n",
      "\n",
      "Classification Report For Logistic Regression :\n",
      "              precision    recall  f1-score   support\n",
      "\n",
      "           0       0.90      0.96      0.93       966\n",
      "           1       0.76      0.54      0.64       235\n",
      "\n",
      "    accuracy                           0.88      1201\n",
      "   macro avg       0.83      0.75      0.78      1201\n",
      "weighted avg       0.87      0.88      0.87      1201\n",
      "\n"
     ]
    }
   ],
   "source": [
    "# Evaluation\n",
    "\n",
    "print(\"Training Accuracy For Logistic Regression :\")\n",
    "print(model_3_lr_best.score(x_train, y_train))\n",
    "\n",
    "print('-'*110)\n",
    "\n",
    "print(\"\\nTest Accuracy For Logistic Regression: \")\n",
    "print(accuracy_score(y_pred_lr , y_test))\n",
    "\n",
    "print('-'*110)\n",
    "\n",
    "print(\"\\nAUC For Logistic Regression :\")\n",
    "print(roc_auc_score(y_test, y_pred_lr))\n",
    "\n",
    "print('-'*110)\n",
    "\n",
    "print(\"\\nConfusion Matrix For Logistic Regression :\")\n",
    "print(confusion_matrix(y_test, y_pred_lr))\n",
    "\n",
    "print('-'*110)\n",
    "print(\"\\nClassification Report For Logistic Regression :\")\n",
    "print(classification_report(y_test, y_pred_lr))"
   ]
  },
  {
   "cell_type": "markdown",
   "metadata": {},
   "source": [
    "## 4. Support Vector Machines"
   ]
  },
  {
   "cell_type": "code",
   "execution_count": 54,
   "metadata": {},
   "outputs": [
    {
     "name": "stdout",
     "output_type": "stream",
     "text": [
      "Fitting 5 folds for each of 100 candidates, totalling 500 fits\n"
     ]
    },
    {
     "name": "stderr",
     "output_type": "stream",
     "text": [
      "[Parallel(n_jobs=-1)]: Using backend LokyBackend with 4 concurrent workers.\n",
      "[Parallel(n_jobs=-1)]: Done  42 tasks      | elapsed:    5.3s\n",
      "[Parallel(n_jobs=-1)]: Done 192 tasks      | elapsed:   27.3s\n",
      "[Parallel(n_jobs=-1)]: Done 442 tasks      | elapsed:  1.5min\n",
      "[Parallel(n_jobs=-1)]: Done 500 out of 500 | elapsed:  1.8min finished\n"
     ]
    }
   ],
   "source": [
    "# Model - 4 ----- SVM\n",
    "\n",
    "# Tuning Hyper-Parameters\n",
    "grid_parameters = {'C': [0.001,0.01,0.1,1,10], 'gamma': [0.001, 0.01, 1, 10, 100], \n",
    "                   'tol' :[0.01,0.1], 'degree' : [3,5]}\n",
    "\n",
    "# Making Classifier Ready\n",
    "model_4_svm = GridSearchCV(SVC(), grid_parameters, verbose = 1, cv = 5, n_jobs = -1)\n",
    "\n",
    "# Training The Model\n",
    "model_4_svm.fit(x_train, y_train)\n",
    "\n",
    "# Finding best_estimator\n",
    "model_4_svm_best = model_4_svm.best_estimator_"
   ]
  },
  {
   "cell_type": "code",
   "execution_count": 55,
   "metadata": {},
   "outputs": [
    {
     "name": "stdout",
     "output_type": "stream",
     "text": [
      "Best Parameters For SVMs :  {'C': 1, 'degree': 3, 'gamma': 1, 'tol': 0.01}\n"
     ]
    }
   ],
   "source": [
    "# Predicting Model\n",
    "y_pred_svm = model_4_svm_best.predict(x_test)\n",
    "\n",
    "print (\"Best Parameters For SVMs : \",model_4_svm.best_params_)"
   ]
  },
  {
   "cell_type": "code",
   "execution_count": 56,
   "metadata": {},
   "outputs": [
    {
     "name": "stdout",
     "output_type": "stream",
     "text": [
      "Training Accuracy For SVMs :\n",
      "0.9583449041932797\n",
      "--------------------------------------------------------------------------------------------------------------\n",
      "\n",
      "Test Accuracy FOr SVMs :\n",
      "0.9017485428809325\n",
      "--------------------------------------------------------------------------------------------------------------\n",
      "\n",
      "AUC For SVMs :\n",
      "0.78596757852077\n",
      "--------------------------------------------------------------------------------------------------------------\n",
      "\n",
      "Confusion Matrix For SVMs :\n",
      "[[943  23]\n",
      " [ 95 140]]\n",
      "--------------------------------------------------------------------------------------------------------------\n",
      "\n",
      "Classification Report For SVMs :\n",
      "              precision    recall  f1-score   support\n",
      "\n",
      "           0       0.91      0.98      0.94       966\n",
      "           1       0.86      0.60      0.70       235\n",
      "\n",
      "    accuracy                           0.90      1201\n",
      "   macro avg       0.88      0.79      0.82      1201\n",
      "weighted avg       0.90      0.90      0.89      1201\n",
      "\n"
     ]
    }
   ],
   "source": [
    "# Evaluation\n",
    "\n",
    "print(\"Training Accuracy For SVMs :\")\n",
    "print(model_4_svm_best.score(x_train, y_train))\n",
    "\n",
    "print('-'*110)\n",
    "\n",
    "print(\"\\nTest Accuracy FOr SVMs :\")\n",
    "print(accuracy_score(y_pred_svm , y_test))\n",
    "\n",
    "print('-'*110)\n",
    "\n",
    "print(\"\\nAUC For SVMs :\")\n",
    "print(roc_auc_score(y_test, y_pred_svm))\n",
    "\n",
    "print('-'*110)\n",
    "\n",
    "print(\"\\nConfusion Matrix For SVMs :\")\n",
    "print(confusion_matrix(y_test, y_pred_svm))\n",
    "\n",
    "print('-'*110)\n",
    "print(\"\\nClassification Report For SVMs :\")\n",
    "print(classification_report(y_test, y_pred_svm))"
   ]
  },
  {
   "cell_type": "markdown",
   "metadata": {},
   "source": [
    "### 5. Random Forest Classifier"
   ]
  },
  {
   "cell_type": "code",
   "execution_count": 57,
   "metadata": {},
   "outputs": [
    {
     "name": "stdout",
     "output_type": "stream",
     "text": [
      "Fitting 3 folds for each of 20 candidates, totalling 60 fits\n"
     ]
    },
    {
     "name": "stderr",
     "output_type": "stream",
     "text": [
      "[Parallel(n_jobs=-1)]: Using backend LokyBackend with 4 concurrent workers.\n",
      "[Parallel(n_jobs=-1)]: Done  42 tasks      | elapsed:   35.9s\n",
      "[Parallel(n_jobs=-1)]: Done  60 out of  60 | elapsed:   55.2s finished\n"
     ]
    }
   ],
   "source": [
    "# Model - 5 ----- Random Forest\n",
    "\n",
    "# Tuning Hyper-Parameters\n",
    "grid_parameters = {'max_depth' : [3, 5, 7, 10, 13], 'n_estimators' : [100,150,200,300]}\n",
    "\n",
    "# Making Classifier Ready\n",
    "model_5_rf = GridSearchCV(RandomForestClassifier(), grid_parameters, verbose = 1, cv = 3, n_jobs = -1)\n",
    "\n",
    "# Training The Model\n",
    "model_5_rf.fit(x_train, y_train)\n",
    "\n",
    "# Finding best_estimator\n",
    "model_5_rf_best = model_5_rf.best_estimator_"
   ]
  },
  {
   "cell_type": "code",
   "execution_count": 58,
   "metadata": {},
   "outputs": [
    {
     "name": "stdout",
     "output_type": "stream",
     "text": [
      "Best Parameters For Random Forest Classifier :  {'max_depth': 10, 'n_estimators': 200}\n"
     ]
    }
   ],
   "source": [
    "# Predicting Model\n",
    "y_pred_rf = model_5_rf_best.predict(x_test)\n",
    "\n",
    "print (\"Best Parameters For Random Forest Classifier : \",model_5_rf.best_params_)"
   ]
  },
  {
   "cell_type": "code",
   "execution_count": 60,
   "metadata": {},
   "outputs": [
    {
     "name": "stdout",
     "output_type": "stream",
     "text": [
      "Training Accuracy For Random Forest Classifier :\n",
      "0.9613996112191058\n",
      "--------------------------------------------------------------------------------------------------------------\n",
      "\n",
      "Test Accuracy For Random Forest Classifier :\n",
      "0.9042464612822648\n",
      "--------------------------------------------------------------------------------------------------------------\n",
      "\n",
      "AUC For Random Forest Classifier :\n",
      "0.8116712920135676\n",
      "--------------------------------------------------------------------------------------------------------------\n",
      "\n",
      "Confusion Matrix For Random Forest Classifier :\n",
      "[[931  35]\n",
      " [ 80 155]]\n",
      "--------------------------------------------------------------------------------------------------------------\n",
      "\n",
      "Classification Report For Random Forest Classifier :\n",
      "              precision    recall  f1-score   support\n",
      "\n",
      "           0       0.92      0.96      0.94       966\n",
      "           1       0.82      0.66      0.73       235\n",
      "\n",
      "    accuracy                           0.90      1201\n",
      "   macro avg       0.87      0.81      0.84      1201\n",
      "weighted avg       0.90      0.90      0.90      1201\n",
      "\n"
     ]
    }
   ],
   "source": [
    "# Evaluation\n",
    "\n",
    "print(\"Training Accuracy For Random Forest Classifier :\")\n",
    "print(model_5_rf_best.score(x_train, y_train))\n",
    "\n",
    "print('-'*110)\n",
    "\n",
    "print(\"\\nTest Accuracy For Random Forest Classifier :\")\n",
    "print(accuracy_score(y_pred_rf , y_test))\n",
    "\n",
    "print('-'*110)\n",
    "\n",
    "print(\"\\nAUC For Random Forest Classifier :\")\n",
    "print(roc_auc_score(y_test, y_pred_rf))\n",
    "\n",
    "print('-'*110)\n",
    "\n",
    "print(\"\\nConfusion Matrix For Random Forest Classifier :\")\n",
    "print(confusion_matrix(y_test, y_pred_rf))\n",
    "\n",
    "print('-'*110)\n",
    "print(\"\\nClassification Report For Random Forest Classifier :\")\n",
    "print(classification_report(y_test, y_pred_rf))"
   ]
  },
  {
   "cell_type": "markdown",
   "metadata": {},
   "source": [
    "### 6. XGBoosting"
   ]
  },
  {
   "cell_type": "code",
   "execution_count": 61,
   "metadata": {},
   "outputs": [
    {
     "name": "stdout",
     "output_type": "stream",
     "text": [
      "Fitting 3 folds for each of 80 candidates, totalling 240 fits\n"
     ]
    },
    {
     "name": "stderr",
     "output_type": "stream",
     "text": [
      "[Parallel(n_jobs=-1)]: Using backend LokyBackend with 4 concurrent workers.\n",
      "[Parallel(n_jobs=-1)]: Done  42 tasks      | elapsed: 53.4min\n",
      "[Parallel(n_jobs=-1)]: Done 192 tasks      | elapsed: 222.5min\n",
      "[Parallel(n_jobs=-1)]: Done 240 out of 240 | elapsed: 223.0min finished\n"
     ]
    }
   ],
   "source": [
    "# Model - 6 ----- XGBClassifier\n",
    "\n",
    "# Tuning Hyper-Parameters\n",
    "grid_parameters = {'max_depth' : [3, 5, 7, 10], 'learning_rate' : [0.001, 0.01, 0.1, 1], \n",
    "                   'n_estimators' : [100,150,200,250,500]}\n",
    "\n",
    "# Making Classifier Ready\n",
    "model_6_xgb = GridSearchCV(XGBClassifier(), grid_parameters, verbose = 1, cv = 3, n_jobs = -1)\n",
    "\n",
    "# Training The Model\n",
    "model_6_xgb.fit(x_train, y_train)\n",
    "\n",
    "# Finding best_estimator\n",
    "model_6_xgb_best = model_6_xgb.best_estimator_"
   ]
  },
  {
   "cell_type": "code",
   "execution_count": 62,
   "metadata": {},
   "outputs": [
    {
     "name": "stdout",
     "output_type": "stream",
     "text": [
      "Best Parameters For XGBoosting :  {'learning_rate': 0.1, 'max_depth': 3, 'n_estimators': 150}\n"
     ]
    }
   ],
   "source": [
    "# Predicting Model\n",
    "y_pred_xgb = model_6_xgb_best.predict(x_test)\n",
    "\n",
    "print (\"Best Parameters For XGBoosting : \",model_6_xgb.best_params_)"
   ]
  },
  {
   "cell_type": "code",
   "execution_count": 63,
   "metadata": {},
   "outputs": [
    {
     "name": "stdout",
     "output_type": "stream",
     "text": [
      "Training Accuracy For XGBoosting :\n",
      "0.9300194390447099\n",
      "--------------------------------------------------------------------------------------------------------------\n",
      "\n",
      "Test Accuracy For XGBoosting :\n",
      "0.9034138218151541\n",
      "--------------------------------------------------------------------------------------------------------------\n",
      "\n",
      "AUC For XGBoosting :\n",
      "0.8159838773622307\n",
      "--------------------------------------------------------------------------------------------------------------\n",
      "\n",
      "Confusion Matrix For XGBoosting :\n",
      "[[927  39]\n",
      " [ 77 158]]\n",
      "--------------------------------------------------------------------------------------------------------------\n",
      "\n",
      "Classification Report For XGBoosting :\n",
      "              precision    recall  f1-score   support\n",
      "\n",
      "           0       0.92      0.96      0.94       966\n",
      "           1       0.80      0.67      0.73       235\n",
      "\n",
      "    accuracy                           0.90      1201\n",
      "   macro avg       0.86      0.82      0.84      1201\n",
      "weighted avg       0.90      0.90      0.90      1201\n",
      "\n"
     ]
    }
   ],
   "source": [
    "# Evaluation\n",
    "\n",
    "print(\"Training Accuracy For XGBoosting :\")\n",
    "print(model_6_xgb_best.score(x_train, y_train))\n",
    "\n",
    "print('-'*110)\n",
    "\n",
    "print(\"\\nTest Accuracy For XGBoosting :\")\n",
    "print(accuracy_score(y_pred_xgb , y_test))\n",
    "\n",
    "print('-'*110)\n",
    "\n",
    "print(\"\\nAUC For XGBoosting :\")\n",
    "print(roc_auc_score(y_test, y_pred_xgb))\n",
    "\n",
    "print('-'*110)\n",
    "\n",
    "print(\"\\nConfusion Matrix For XGBoosting :\")\n",
    "print(confusion_matrix(y_test, y_pred_xgb))\n",
    "\n",
    "print('-'*110)\n",
    "print(\"\\nClassification Report For XGBoosting :\")\n",
    "print(classification_report(y_test, y_pred_xgb))"
   ]
  },
  {
   "cell_type": "markdown",
   "metadata": {},
   "source": [
    "## Experiment 2: With Scaled Data + Down sampled Data"
   ]
  },
  {
   "cell_type": "markdown",
   "metadata": {},
   "source": [
    "- We've now balanced our dataset, but in doing so, we've removed a lot of data points that might have been crucial to training our models. \n",
    "- Let's test to see if balancing our data improves model bias towards the \"Rock\" classification while retaining overall classification performance."
   ]
  },
  {
   "cell_type": "markdown",
   "metadata": {},
   "source": [
    "### Balancing of the Data"
   ]
  },
  {
   "cell_type": "code",
   "execution_count": 65,
   "metadata": {},
   "outputs": [],
   "source": [
    "# Subset only the hip-hop tracks, and then only the rock tracks\n",
    "hip_hop_songs = echo_tracks_data.loc[echo_tracks_data['genre_top'] == 1]\n",
    "\n",
    "# sample the rocks songs to be the same number as there are hip-hop songs\n",
    "rock_songs = echo_tracks_data.loc[echo_tracks_data[\"genre_top\"] == 0].sample(len(hip_hop_songs), random_state = 10)\n",
    "\n",
    "# concatenate the dataframes rock_only and hop_only\n",
    "echo_tracks_data_balanced = pd.concat([rock_songs, hip_hop_songs])"
   ]
  },
  {
   "cell_type": "markdown",
   "metadata": {},
   "source": [
    "### Train - Test Splitting"
   ]
  },
  {
   "cell_type": "code",
   "execution_count": 66,
   "metadata": {},
   "outputs": [],
   "source": [
    "# The features, labels, and pca projection are created for the balanced dataframe\n",
    "x = echo_tracks_data_balanced.drop(['genre_top', 'track_id'], axis = 1) \n",
    "y = echo_tracks_data_balanced['genre_top']\n",
    "pca_projection = pca.fit_transform(sc.fit_transform(x))\n",
    "\n",
    "# Redefine the train and test set with the pca_projection from the balanced data\n",
    "x_train, x_test, y_train, y_test = train_test_split(pca_projection, y, random_state = 10, test_size = 0.25)"
   ]
  },
  {
   "cell_type": "markdown",
   "metadata": {},
   "source": [
    "### 7. KNN"
   ]
  },
  {
   "cell_type": "code",
   "execution_count": 67,
   "metadata": {},
   "outputs": [
    {
     "name": "stdout",
     "output_type": "stream",
     "text": [
      "Fitting 5 folds for each of 12 candidates, totalling 60 fits\n"
     ]
    },
    {
     "name": "stderr",
     "output_type": "stream",
     "text": [
      "[Parallel(n_jobs=-1)]: Using backend LokyBackend with 4 concurrent workers.\n",
      "[Parallel(n_jobs=-1)]: Done  44 tasks      | elapsed:   34.4s\n",
      "[Parallel(n_jobs=-1)]: Done  60 out of  60 | elapsed:   34.5s finished\n"
     ]
    }
   ],
   "source": [
    "# Model - 7 ----- KNN\n",
    "\n",
    "# Tuning Hyper-Parameters\n",
    "grid_parameters = {'n_neighbors' : [3,5,7,9,11,13], 'weights' : ['uniform', 'distance'], }\n",
    "\n",
    "# Making Classifier Ready\n",
    "model_7_knn = GridSearchCV(KNeighborsClassifier(), grid_parameters, verbose = 1, cv = 5, n_jobs = -1)\n",
    "\n",
    "# Training The Model\n",
    "model_7_knn.fit(x_train, y_train)\n",
    "\n",
    "# Finding best_estimator\n",
    "model_7_knn_best = model_7_knn.best_estimator_"
   ]
  },
  {
   "cell_type": "code",
   "execution_count": 68,
   "metadata": {},
   "outputs": [
    {
     "name": "stdout",
     "output_type": "stream",
     "text": [
      "Best Parameters For KNN :  {'n_neighbors': 11, 'weights': 'distance'}\n"
     ]
    }
   ],
   "source": [
    "# Predicting Model\n",
    "y_pred_knn = model_7_knn_best.predict(x_test)\n",
    "\n",
    "print (\"Best Parameters For KNN : \",model_7_knn.best_params_)"
   ]
  },
  {
   "cell_type": "code",
   "execution_count": 69,
   "metadata": {},
   "outputs": [
    {
     "name": "stdout",
     "output_type": "stream",
     "text": [
      "Training Accuracy For KNN :\n",
      "1.0\n",
      "--------------------------------------------------------------------------------------------------------------\n",
      "\n",
      "Test Accuracy For KNN:  0.8549450549450549\n",
      "--------------------------------------------------------------------------------------------------------------\n",
      "\n",
      "AUC For KNN :\n",
      "0.8553140096618356\n",
      "--------------------------------------------------------------------------------------------------------------\n",
      "\n",
      "Confusion Matrix For KNN :\n",
      "[[200  25]\n",
      " [ 41 189]]\n",
      "--------------------------------------------------------------------------------------------------------------\n",
      "\n",
      "Classification Report For KNN :\n",
      "              precision    recall  f1-score   support\n",
      "\n",
      "           0       0.83      0.89      0.86       225\n",
      "           1       0.88      0.82      0.85       230\n",
      "\n",
      "    accuracy                           0.85       455\n",
      "   macro avg       0.86      0.86      0.85       455\n",
      "weighted avg       0.86      0.85      0.85       455\n",
      "\n"
     ]
    }
   ],
   "source": [
    "# Evaluation\n",
    "\n",
    "print(\"Training Accuracy For KNN :\")\n",
    "print(model_7_knn_best.score(x_train, y_train))\n",
    "\n",
    "print('-'*110)\n",
    "\n",
    "print(\"\\nTest Accuracy For KNN: \", accuracy_score(y_pred_knn , y_test))\n",
    "\n",
    "print('-'*110)\n",
    "\n",
    "print(\"\\nAUC For KNN :\")\n",
    "print(roc_auc_score(y_test, y_pred_knn))\n",
    "\n",
    "print('-'*110)\n",
    "\n",
    "print(\"\\nConfusion Matrix For KNN :\")\n",
    "print(confusion_matrix(y_test, y_pred_knn))\n",
    "\n",
    "print('-'*110)\n",
    "print(\"\\nClassification Report For KNN :\")\n",
    "print(classification_report(y_test, y_pred_knn))"
   ]
  },
  {
   "cell_type": "markdown",
   "metadata": {},
   "source": [
    "### 8. Gaussian Naive Bayes"
   ]
  },
  {
   "cell_type": "code",
   "execution_count": 70,
   "metadata": {},
   "outputs": [
    {
     "name": "stdout",
     "output_type": "stream",
     "text": [
      "Fitting 5 folds for each of 1 candidates, totalling 5 fits\n"
     ]
    },
    {
     "name": "stderr",
     "output_type": "stream",
     "text": [
      "[Parallel(n_jobs=-1)]: Using backend LokyBackend with 4 concurrent workers.\n",
      "[Parallel(n_jobs=-1)]: Done   5 out of   5 | elapsed:    0.1s finished\n"
     ]
    }
   ],
   "source": [
    "# Model - 8 ----- Gaussian NB\n",
    "\n",
    "# Tuning Hyper-Parameters\n",
    "grid_parameters = {}\n",
    "\n",
    "# Making Classifier Ready\n",
    "model_8_nb = GridSearchCV(GaussianNB(), grid_parameters, verbose = 1, cv = 5, n_jobs = -1)\n",
    "\n",
    "# Training The Model\n",
    "model_8_nb.fit(x_train, y_train)\n",
    "\n",
    "# Finding best_estimator\n",
    "model_8_nb_best = model_8_nb.best_estimator_"
   ]
  },
  {
   "cell_type": "code",
   "execution_count": 71,
   "metadata": {},
   "outputs": [
    {
     "name": "stdout",
     "output_type": "stream",
     "text": [
      "Best Parameters For Naive Bayes :  {}\n"
     ]
    }
   ],
   "source": [
    "# Predicting Model\n",
    "y_pred_nb = model_8_nb_best.predict(x_test)\n",
    "\n",
    "print (\"Best Parameters For Naive Bayes : \",model_8_nb.best_params_)"
   ]
  },
  {
   "cell_type": "code",
   "execution_count": 72,
   "metadata": {},
   "outputs": [
    {
     "name": "stdout",
     "output_type": "stream",
     "text": [
      "Training Accuracy For Naive Bayes :\n",
      "0.8300366300366301\n",
      "--------------------------------------------------------------------------------------------------------------\n",
      "\n",
      "Test Accuracy For Naive Bayes: \n",
      "0.843956043956044\n",
      "--------------------------------------------------------------------------------------------------------------\n",
      "\n",
      "AUC For Naive Bayes :\n",
      "0.8442995169082126\n",
      "--------------------------------------------------------------------------------------------------------------\n",
      "\n",
      "Confusion Matrix For Naive Bayes :\n",
      "[[197  28]\n",
      " [ 43 187]]\n",
      "--------------------------------------------------------------------------------------------------------------\n",
      "\n",
      "Classification Report For Naive Bayes :\n",
      "              precision    recall  f1-score   support\n",
      "\n",
      "           0       0.82      0.88      0.85       225\n",
      "           1       0.87      0.81      0.84       230\n",
      "\n",
      "    accuracy                           0.84       455\n",
      "   macro avg       0.85      0.84      0.84       455\n",
      "weighted avg       0.85      0.84      0.84       455\n",
      "\n"
     ]
    }
   ],
   "source": [
    "# Evaluation\n",
    "\n",
    "print(\"Training Accuracy For Naive Bayes :\")\n",
    "print(model_8_nb_best.score(x_train, y_train))\n",
    "\n",
    "print('-'*110)\n",
    "\n",
    "print(\"\\nTest Accuracy For Naive Bayes: \")\n",
    "print(accuracy_score(y_pred_nb , y_test))\n",
    "print('-'*110)\n",
    "\n",
    "print(\"\\nAUC For Naive Bayes :\")\n",
    "print(roc_auc_score(y_test, y_pred_nb))\n",
    "\n",
    "print('-'*110)\n",
    "\n",
    "print(\"\\nConfusion Matrix For Naive Bayes :\")\n",
    "print(confusion_matrix(y_test, y_pred_nb))\n",
    "\n",
    "print('-'*110)\n",
    "print(\"\\nClassification Report For Naive Bayes :\")\n",
    "print(classification_report(y_test, y_pred_nb))"
   ]
  },
  {
   "cell_type": "markdown",
   "metadata": {},
   "source": [
    "### 9. Logistic Regression"
   ]
  },
  {
   "cell_type": "code",
   "execution_count": 73,
   "metadata": {},
   "outputs": [
    {
     "name": "stdout",
     "output_type": "stream",
     "text": [
      "Fitting 3 folds for each of 12 candidates, totalling 36 fits\n"
     ]
    },
    {
     "name": "stderr",
     "output_type": "stream",
     "text": [
      "[Parallel(n_jobs=-1)]: Using backend LokyBackend with 4 concurrent workers.\n",
      "[Parallel(n_jobs=-1)]: Done  36 out of  36 | elapsed:    1.3s finished\n"
     ]
    }
   ],
   "source": [
    "# Model - 9 ----- Logistic Regression\n",
    "\n",
    "# Tuning Hyper-Parameters\n",
    "grid_parameters = {'penalty': ['l1','l2'], 'C': [0.001,0.01,0.1,1,10,100]}\n",
    "\n",
    "# Making Classifier Ready\n",
    "model_9_lr = GridSearchCV(LogisticRegression(fit_intercept = True,), grid_parameters, verbose = 1, cv = 3, n_jobs = -1)\n",
    "\n",
    "# Training The Model\n",
    "model_9_lr.fit(x_train, y_train)\n",
    "\n",
    "# Finding best_estimator\n",
    "model_9_lr_best = model_9_lr.best_estimator_"
   ]
  },
  {
   "cell_type": "code",
   "execution_count": 74,
   "metadata": {},
   "outputs": [
    {
     "name": "stdout",
     "output_type": "stream",
     "text": [
      "Best Parameters For Logistic Regression :  {'C': 0.1, 'penalty': 'l2'}\n"
     ]
    }
   ],
   "source": [
    "# Predicting Model\n",
    "y_pred_lr = model_9_lr_best.predict(x_test)\n",
    "\n",
    "print (\"Best Parameters For Logistic Regression : \",model_9_lr.best_params_)"
   ]
  },
  {
   "cell_type": "code",
   "execution_count": 75,
   "metadata": {},
   "outputs": [
    {
     "name": "stdout",
     "output_type": "stream",
     "text": [
      "Training Accuracy For Logistic Regression :\n",
      "0.8227106227106227\n",
      "--------------------------------------------------------------------------------------------------------------\n",
      "\n",
      "Test Accuracy For Logistic Regression: \n",
      "0.810989010989011\n",
      "--------------------------------------------------------------------------------------------------------------\n",
      "\n",
      "AUC For Logistic Regression :\n",
      "0.8113043478260868\n",
      "--------------------------------------------------------------------------------------------------------------\n",
      "\n",
      "Confusion Matrix For Logistic Regression :\n",
      "[[189  36]\n",
      " [ 50 180]]\n",
      "--------------------------------------------------------------------------------------------------------------\n",
      "\n",
      "Classification Report For Logistic Regression :\n",
      "              precision    recall  f1-score   support\n",
      "\n",
      "           0       0.79      0.84      0.81       225\n",
      "           1       0.83      0.78      0.81       230\n",
      "\n",
      "    accuracy                           0.81       455\n",
      "   macro avg       0.81      0.81      0.81       455\n",
      "weighted avg       0.81      0.81      0.81       455\n",
      "\n"
     ]
    }
   ],
   "source": [
    "# Evaluation\n",
    "\n",
    "print(\"Training Accuracy For Logistic Regression :\")\n",
    "print(model_9_lr_best.score(x_train, y_train))\n",
    "\n",
    "print('-'*110)\n",
    "\n",
    "print(\"\\nTest Accuracy For Logistic Regression: \")\n",
    "print(accuracy_score(y_pred_lr , y_test))\n",
    "\n",
    "print('-'*110)\n",
    "\n",
    "print(\"\\nAUC For Logistic Regression :\")\n",
    "print(roc_auc_score(y_test, y_pred_lr))\n",
    "\n",
    "print('-'*110)\n",
    "\n",
    "print(\"\\nConfusion Matrix For Logistic Regression :\")\n",
    "print(confusion_matrix(y_test, y_pred_lr))\n",
    "\n",
    "print('-'*110)\n",
    "print(\"\\nClassification Report For Logistic Regression :\")\n",
    "print(classification_report(y_test, y_pred_lr))"
   ]
  },
  {
   "cell_type": "markdown",
   "metadata": {},
   "source": [
    "### 10. Support Vector Machines"
   ]
  },
  {
   "cell_type": "code",
   "execution_count": 76,
   "metadata": {},
   "outputs": [
    {
     "name": "stdout",
     "output_type": "stream",
     "text": [
      "Fitting 5 folds for each of 100 candidates, totalling 500 fits\n"
     ]
    },
    {
     "name": "stderr",
     "output_type": "stream",
     "text": [
      "[Parallel(n_jobs=-1)]: Using backend LokyBackend with 4 concurrent workers.\n",
      "[Parallel(n_jobs=-1)]: Done  92 tasks      | elapsed:    2.2s\n",
      "[Parallel(n_jobs=-1)]: Done 500 out of 500 | elapsed:   13.1s finished\n"
     ]
    }
   ],
   "source": [
    "# Model - 10 ----- SVM\n",
    "\n",
    "# Tuning Hyper-Parameters\n",
    "grid_parameters = {'C': [0.001,0.01,0.1,1,10], 'gamma': [0.001, 0.01, 1, 10, 100], \n",
    "                   'tol' :[0.01,0.1], 'degree' : [3,5]}\n",
    "\n",
    "# Making Classifier Ready\n",
    "model_10_svm = GridSearchCV(SVC(), grid_parameters, verbose = 1, cv = 5, n_jobs = -1)\n",
    "\n",
    "# Training The Model\n",
    "model_10_svm.fit(x_train, y_train)\n",
    "\n",
    "# Finding best_estimator\n",
    "model_10_svm_best = model_10_svm.best_estimator_"
   ]
  },
  {
   "cell_type": "code",
   "execution_count": 77,
   "metadata": {},
   "outputs": [
    {
     "name": "stdout",
     "output_type": "stream",
     "text": [
      "Best Parameters For SVMs :  {'C': 10, 'degree': 3, 'gamma': 0.01, 'tol': 0.1}\n"
     ]
    }
   ],
   "source": [
    "# Predicting Model\n",
    "y_pred_svm = model_10_svm_best.predict(x_test)\n",
    "\n",
    "print (\"Best Parameters For SVMs : \",model_10_svm.best_params_)"
   ]
  },
  {
   "cell_type": "code",
   "execution_count": 78,
   "metadata": {},
   "outputs": [
    {
     "name": "stdout",
     "output_type": "stream",
     "text": [
      "Training Accuracy For SVMs :\n",
      "0.8586080586080586\n",
      "--------------------------------------------------------------------------------------------------------------\n",
      "\n",
      "Test Accuracy FOr SVMs :\n",
      "0.843956043956044\n",
      "--------------------------------------------------------------------------------------------------------------\n",
      "\n",
      "AUC For SVMs :\n",
      "0.8441545893719807\n",
      "--------------------------------------------------------------------------------------------------------------\n",
      "\n",
      "Confusion Matrix For SVMs :\n",
      "[[194  31]\n",
      " [ 40 190]]\n",
      "--------------------------------------------------------------------------------------------------------------\n",
      "\n",
      "Classification Report For SVMs :\n",
      "              precision    recall  f1-score   support\n",
      "\n",
      "           0       0.83      0.86      0.85       225\n",
      "           1       0.86      0.83      0.84       230\n",
      "\n",
      "    accuracy                           0.84       455\n",
      "   macro avg       0.84      0.84      0.84       455\n",
      "weighted avg       0.84      0.84      0.84       455\n",
      "\n"
     ]
    }
   ],
   "source": [
    "# Evaluation\n",
    "\n",
    "print(\"Training Accuracy For SVMs :\")\n",
    "print(model_10_svm_best.score(x_train, y_train))\n",
    "\n",
    "print('-'*110)\n",
    "\n",
    "print(\"\\nTest Accuracy FOr SVMs :\")\n",
    "print(accuracy_score(y_pred_svm , y_test))\n",
    "\n",
    "print('-'*110)\n",
    "\n",
    "print(\"\\nAUC For SVMs :\")\n",
    "print(roc_auc_score(y_test, y_pred_svm))\n",
    "\n",
    "print('-'*110)\n",
    "\n",
    "print(\"\\nConfusion Matrix For SVMs :\")\n",
    "print(confusion_matrix(y_test, y_pred_svm))\n",
    "\n",
    "print('-'*110)\n",
    "print(\"\\nClassification Report For SVMs :\")\n",
    "print(classification_report(y_test, y_pred_svm))"
   ]
  },
  {
   "cell_type": "markdown",
   "metadata": {},
   "source": [
    "### 11. Random Forest Classifier"
   ]
  },
  {
   "cell_type": "code",
   "execution_count": 79,
   "metadata": {},
   "outputs": [
    {
     "name": "stdout",
     "output_type": "stream",
     "text": [
      "Fitting 3 folds for each of 20 candidates, totalling 60 fits\n"
     ]
    },
    {
     "name": "stderr",
     "output_type": "stream",
     "text": [
      "[Parallel(n_jobs=-1)]: Using backend LokyBackend with 4 concurrent workers.\n",
      "[Parallel(n_jobs=-1)]: Done  42 tasks      | elapsed:   17.0s\n",
      "[Parallel(n_jobs=-1)]: Done  60 out of  60 | elapsed:   27.1s finished\n"
     ]
    }
   ],
   "source": [
    "# Model - 11 ----- Random Forest\n",
    "\n",
    "# Tuning Hyper-Parameters\n",
    "grid_parameters = {'max_depth' : [3, 5, 7, 10, 13], 'n_estimators' : [100,150,200,300]}\n",
    "\n",
    "# Making Classifier Ready\n",
    "model_11_rf = GridSearchCV(RandomForestClassifier(), grid_parameters, verbose = 1, cv = 3, n_jobs = -1)\n",
    "\n",
    "# Training The Model\n",
    "model_11_rf.fit(x_train, y_train)\n",
    "\n",
    "# Finding best_estimator\n",
    "model_11_rf_best = model_11_rf.best_estimator_"
   ]
  },
  {
   "cell_type": "code",
   "execution_count": 80,
   "metadata": {},
   "outputs": [
    {
     "name": "stdout",
     "output_type": "stream",
     "text": [
      "Best Parameters For Random Forest Classifier :  {'max_depth': 13, 'n_estimators': 150}\n"
     ]
    }
   ],
   "source": [
    "# Predicting Model\n",
    "y_pred_rf = model_11_rf_best.predict(x_test)\n",
    "\n",
    "print (\"Best Parameters For Random Forest Classifier : \",model_11_rf.best_params_)"
   ]
  },
  {
   "cell_type": "code",
   "execution_count": 81,
   "metadata": {},
   "outputs": [
    {
     "name": "stdout",
     "output_type": "stream",
     "text": [
      "Training Accuracy For Random Forest Classifier :\n",
      "0.9978021978021978\n",
      "--------------------------------------------------------------------------------------------------------------\n",
      "\n",
      "Test Accuracy For Random Forest Classifier :\n",
      "0.8483516483516483\n",
      "--------------------------------------------------------------------------------------------------------------\n",
      "\n",
      "AUC For Random Forest Classifier :\n",
      "0.8486473429951691\n",
      "--------------------------------------------------------------------------------------------------------------\n",
      "\n",
      "Confusion Matrix For Random Forest Classifier :\n",
      "[[197  28]\n",
      " [ 41 189]]\n",
      "--------------------------------------------------------------------------------------------------------------\n",
      "\n",
      "Classification Report For Random Forest Classifier :\n",
      "              precision    recall  f1-score   support\n",
      "\n",
      "           0       0.83      0.88      0.85       225\n",
      "           1       0.87      0.82      0.85       230\n",
      "\n",
      "    accuracy                           0.85       455\n",
      "   macro avg       0.85      0.85      0.85       455\n",
      "weighted avg       0.85      0.85      0.85       455\n",
      "\n"
     ]
    }
   ],
   "source": [
    "# Evaluation\n",
    "\n",
    "print(\"Training Accuracy For Random Forest Classifier :\")\n",
    "print(model_11_rf_best.score(x_train, y_train))\n",
    "\n",
    "print('-'*110)\n",
    "\n",
    "print(\"\\nTest Accuracy For Random Forest Classifier :\")\n",
    "print(accuracy_score(y_pred_rf , y_test))\n",
    "\n",
    "print('-'*110)\n",
    "\n",
    "print(\"\\nAUC For Random Forest Classifier :\")\n",
    "print(roc_auc_score(y_test, y_pred_rf))\n",
    "\n",
    "print('-'*110)\n",
    "\n",
    "print(\"\\nConfusion Matrix For Random Forest Classifier :\")\n",
    "print(confusion_matrix(y_test, y_pred_rf))\n",
    "\n",
    "print('-'*110)\n",
    "print(\"\\nClassification Report For Random Forest Classifier :\")\n",
    "print(classification_report(y_test, y_pred_rf))"
   ]
  },
  {
   "cell_type": "markdown",
   "metadata": {},
   "source": [
    "## Experiment 3: With Sclaed + Up Sampled Data"
   ]
  },
  {
   "cell_type": "markdown",
   "metadata": {},
   "source": [
    "### Balancing"
   ]
  },
  {
   "cell_type": "code",
   "execution_count": 82,
   "metadata": {},
   "outputs": [
    {
     "name": "stdout",
     "output_type": "stream",
     "text": [
      "Upsampled data:- \n",
      " 1    3892\n",
      "0    3892\n",
      "Name: genre_top, dtype: int64\n"
     ]
    }
   ],
   "source": [
    "# Getting seperated data with 1 and 0 status.\n",
    "df_majority = echo_tracks_data[echo_tracks_data.genre_top == 0]\n",
    "df_minority = echo_tracks_data[echo_tracks_data.genre_top == 1]\n",
    "\n",
    "# Here we are upsampling the Minority Class Data Points. \n",
    "# i.e. We will get equal amount of datapoint as Majority class from Minority class\n",
    "\n",
    "df_minority_upsampled = resample(df_minority, replace = True, n_samples = 3892, random_state = 1)\n",
    "echo_tracks_data_upsampled = pd.concat([df_majority, df_minority_upsampled])\n",
    "\n",
    "print(\"Upsampled data:- \\n\", echo_tracks_data_upsampled.genre_top.value_counts())"
   ]
  },
  {
   "cell_type": "markdown",
   "metadata": {},
   "source": [
    "### Train-Test Splitting"
   ]
  },
  {
   "cell_type": "code",
   "execution_count": 83,
   "metadata": {},
   "outputs": [],
   "source": [
    "# The features, labels, and pca projection are created for the balanced dataframe\n",
    "x = echo_tracks_data_upsampled.drop(['genre_top', 'track_id'], axis = 1) \n",
    "y = echo_tracks_data_upsampled['genre_top']\n",
    "pca_projection = pca.fit_transform(sc.fit_transform(x))\n",
    "\n",
    "# Redefine the train and test set with the pca_projection from the balanced data\n",
    "x_train, x_test, y_train, y_test = train_test_split(pca_projection, y, random_state = 10, test_size = 0.25)"
   ]
  },
  {
   "cell_type": "markdown",
   "metadata": {},
   "source": [
    "### 13. KNN"
   ]
  },
  {
   "cell_type": "code",
   "execution_count": 84,
   "metadata": {},
   "outputs": [
    {
     "name": "stdout",
     "output_type": "stream",
     "text": [
      "Fitting 5 folds for each of 12 candidates, totalling 60 fits\n"
     ]
    },
    {
     "name": "stderr",
     "output_type": "stream",
     "text": [
      "[Parallel(n_jobs=-1)]: Using backend LokyBackend with 4 concurrent workers.\n",
      "[Parallel(n_jobs=-1)]: Done  42 tasks      | elapsed:    2.4s\n",
      "[Parallel(n_jobs=-1)]: Done  60 out of  60 | elapsed:    3.4s finished\n"
     ]
    }
   ],
   "source": [
    "# Model - 13 ----- KNN\n",
    "\n",
    "# Tuning Hyper-Parameters\n",
    "grid_parameters = {'n_neighbors' : [3,5,7,9,11,13], 'weights' : ['uniform', 'distance'], }\n",
    "\n",
    "# Making Classifier Ready\n",
    "model_13_knn = GridSearchCV(KNeighborsClassifier(), grid_parameters, verbose = 1, cv = 5, n_jobs = -1)\n",
    "\n",
    "# Training The Model\n",
    "model_13_knn.fit(x_train, y_train)\n",
    "\n",
    "# Finding best_estimator\n",
    "model_13_knn_best = model_13_knn.best_estimator_"
   ]
  },
  {
   "cell_type": "code",
   "execution_count": 85,
   "metadata": {},
   "outputs": [
    {
     "name": "stdout",
     "output_type": "stream",
     "text": [
      "Best Parameters For KNN :  {'n_neighbors': 13, 'weights': 'distance'}\n"
     ]
    }
   ],
   "source": [
    "# Predicting Model\n",
    "y_pred_knn = model_13_knn_best.predict(x_test)\n",
    "\n",
    "print (\"Best Parameters For KNN : \",model_13_knn.best_params_)"
   ]
  },
  {
   "cell_type": "code",
   "execution_count": 86,
   "metadata": {},
   "outputs": [
    {
     "name": "stdout",
     "output_type": "stream",
     "text": [
      "Training Accuracy For KNN :\n",
      "1.0\n",
      "--------------------------------------------------------------------------------------------------------------\n",
      "\n",
      "Test Accuracy For KNN:  0.9244604316546763\n",
      "--------------------------------------------------------------------------------------------------------------\n",
      "\n",
      "AUC For KNN :\n",
      "0.9259453781512605\n",
      "--------------------------------------------------------------------------------------------------------------\n",
      "\n",
      "Confusion Matrix For KNN :\n",
      "[[852 142]\n",
      " [  5 947]]\n",
      "--------------------------------------------------------------------------------------------------------------\n",
      "\n",
      "Classification Report For KNN :\n",
      "              precision    recall  f1-score   support\n",
      "\n",
      "           0       0.99      0.86      0.92       994\n",
      "           1       0.87      0.99      0.93       952\n",
      "\n",
      "    accuracy                           0.92      1946\n",
      "   macro avg       0.93      0.93      0.92      1946\n",
      "weighted avg       0.93      0.92      0.92      1946\n",
      "\n"
     ]
    }
   ],
   "source": [
    "# Evaluation\n",
    "\n",
    "print(\"Training Accuracy For KNN :\")\n",
    "print(model_13_knn_best.score(x_train, y_train))\n",
    "\n",
    "print('-'*110)\n",
    "\n",
    "print(\"\\nTest Accuracy For KNN: \", accuracy_score(y_pred_knn , y_test))\n",
    "\n",
    "print('-'*110)\n",
    "\n",
    "print(\"\\nAUC For KNN :\")\n",
    "print(roc_auc_score(y_test, y_pred_knn))\n",
    "\n",
    "print('-'*110)\n",
    "\n",
    "print(\"\\nConfusion Matrix For KNN :\")\n",
    "print(confusion_matrix(y_test, y_pred_knn))\n",
    "\n",
    "print('-'*110)\n",
    "print(\"\\nClassification Report For KNN :\")\n",
    "print(classification_report(y_test, y_pred_knn))"
   ]
  },
  {
   "cell_type": "markdown",
   "metadata": {},
   "source": [
    "### 14. Gaussian Naive Bayes"
   ]
  },
  {
   "cell_type": "code",
   "execution_count": 87,
   "metadata": {},
   "outputs": [
    {
     "name": "stdout",
     "output_type": "stream",
     "text": [
      "Fitting 5 folds for each of 1 candidates, totalling 5 fits\n"
     ]
    },
    {
     "name": "stderr",
     "output_type": "stream",
     "text": [
      "[Parallel(n_jobs=-1)]: Using backend LokyBackend with 4 concurrent workers.\n",
      "[Parallel(n_jobs=-1)]: Done   5 out of   5 | elapsed:    0.0s finished\n"
     ]
    }
   ],
   "source": [
    "# Model - 14 ----- Gaussian NB\n",
    "\n",
    "# Tuning Hyper-Parameters\n",
    "grid_parameters = {}\n",
    "\n",
    "# Making Classifier Ready\n",
    "model_14_nb = GridSearchCV(GaussianNB(), grid_parameters, verbose = 1, cv = 5, n_jobs = -1)\n",
    "\n",
    "# Training The Model\n",
    "model_14_nb.fit(x_train, y_train)\n",
    "\n",
    "# Finding best_estimator\n",
    "model_14_nb_best = model_14_nb.best_estimator_"
   ]
  },
  {
   "cell_type": "code",
   "execution_count": 88,
   "metadata": {},
   "outputs": [
    {
     "name": "stdout",
     "output_type": "stream",
     "text": [
      "Best Parameters For Naive Bayes :  {}\n"
     ]
    }
   ],
   "source": [
    "# Predicting Model\n",
    "y_pred_nb = model_14_nb_best.predict(x_test)\n",
    "\n",
    "print (\"Best Parameters For Naive Bayes : \",model_14_nb.best_params_)"
   ]
  },
  {
   "cell_type": "code",
   "execution_count": 89,
   "metadata": {},
   "outputs": [
    {
     "name": "stdout",
     "output_type": "stream",
     "text": [
      "Training Accuracy For Naive Bayes :\n",
      "0.8230558410414526\n",
      "--------------------------------------------------------------------------------------------------------------\n",
      "\n",
      "Test Accuracy For Naive Bayes: \n",
      "0.8355601233299075\n",
      "--------------------------------------------------------------------------------------------------------------\n",
      "\n",
      "AUC For Naive Bayes :\n",
      "0.8353281453426441\n",
      "--------------------------------------------------------------------------------------------------------------\n",
      "\n",
      "Confusion Matrix For Naive Bayes :\n",
      "[[841 153]\n",
      " [167 785]]\n",
      "--------------------------------------------------------------------------------------------------------------\n",
      "\n",
      "Classification Report For Naive Bayes :\n",
      "              precision    recall  f1-score   support\n",
      "\n",
      "           0       0.83      0.85      0.84       994\n",
      "           1       0.84      0.82      0.83       952\n",
      "\n",
      "    accuracy                           0.84      1946\n",
      "   macro avg       0.84      0.84      0.84      1946\n",
      "weighted avg       0.84      0.84      0.84      1946\n",
      "\n"
     ]
    }
   ],
   "source": [
    "# Evaluation\n",
    "\n",
    "print(\"Training Accuracy For Naive Bayes :\")\n",
    "print(model_14_nb_best.score(x_train, y_train))\n",
    "\n",
    "print('-'*110)\n",
    "\n",
    "print(\"\\nTest Accuracy For Naive Bayes: \")\n",
    "print(accuracy_score(y_pred_nb , y_test))\n",
    "print('-'*110)\n",
    "\n",
    "print(\"\\nAUC For Naive Bayes :\")\n",
    "print(roc_auc_score(y_test, y_pred_nb))\n",
    "\n",
    "print('-'*110)\n",
    "\n",
    "print(\"\\nConfusion Matrix For Naive Bayes :\")\n",
    "print(confusion_matrix(y_test, y_pred_nb))\n",
    "\n",
    "print('-'*110)\n",
    "print(\"\\nClassification Report For Naive Bayes :\")\n",
    "print(classification_report(y_test, y_pred_nb))"
   ]
  },
  {
   "cell_type": "markdown",
   "metadata": {},
   "source": [
    "### 15. Logistic Regression"
   ]
  },
  {
   "cell_type": "code",
   "execution_count": 90,
   "metadata": {},
   "outputs": [
    {
     "name": "stdout",
     "output_type": "stream",
     "text": [
      "Fitting 3 folds for each of 12 candidates, totalling 36 fits\n"
     ]
    },
    {
     "name": "stderr",
     "output_type": "stream",
     "text": [
      "[Parallel(n_jobs=-1)]: Using backend LokyBackend with 4 concurrent workers.\n",
      "[Parallel(n_jobs=-1)]: Done  36 out of  36 | elapsed:    0.2s finished\n"
     ]
    }
   ],
   "source": [
    "# Model - 15 ----- Logistic Regression\n",
    "\n",
    "# Tuning Hyper-Parameters\n",
    "grid_parameters = {'penalty': ['l1','l2'], 'C': [0.001,0.01,0.1,1,10,100]}\n",
    "\n",
    "# Making Classifier Ready\n",
    "model_15_lr = GridSearchCV(LogisticRegression(fit_intercept = True,), grid_parameters, verbose = 1, cv = 3, n_jobs = -1)\n",
    "\n",
    "# Training The Model\n",
    "model_15_lr.fit(x_train, y_train)\n",
    "\n",
    "# Finding best_estimator\n",
    "model_15_lr_best = model_15_lr.best_estimator_"
   ]
  },
  {
   "cell_type": "code",
   "execution_count": 91,
   "metadata": {},
   "outputs": [
    {
     "name": "stdout",
     "output_type": "stream",
     "text": [
      "Best Parameters For Logistic Regression :  {'C': 0.1, 'penalty': 'l2'}\n"
     ]
    }
   ],
   "source": [
    "# Predicting Model\n",
    "y_pred_lr = model_15_lr_best.predict(x_test)\n",
    "\n",
    "print (\"Best Parameters For Logistic Regression : \",model_15_lr.best_params_)"
   ]
  },
  {
   "cell_type": "code",
   "execution_count": 92,
   "metadata": {},
   "outputs": [
    {
     "name": "stdout",
     "output_type": "stream",
     "text": [
      "Training Accuracy For Logistic Regression :\n",
      "0.8084960602946214\n",
      "--------------------------------------------------------------------------------------------------------------\n",
      "\n",
      "Test Accuracy For Logistic Regression: \n",
      "0.81551901336074\n",
      "--------------------------------------------------------------------------------------------------------------\n",
      "\n",
      "AUC For Logistic Regression :\n",
      "0.8154885193514025\n",
      "--------------------------------------------------------------------------------------------------------------\n",
      "\n",
      "Confusion Matrix For Logistic Regression :\n",
      "[[812 182]\n",
      " [177 775]]\n",
      "--------------------------------------------------------------------------------------------------------------\n",
      "\n",
      "Classification Report For Logistic Regression :\n",
      "              precision    recall  f1-score   support\n",
      "\n",
      "           0       0.82      0.82      0.82       994\n",
      "           1       0.81      0.81      0.81       952\n",
      "\n",
      "    accuracy                           0.82      1946\n",
      "   macro avg       0.82      0.82      0.82      1946\n",
      "weighted avg       0.82      0.82      0.82      1946\n",
      "\n"
     ]
    }
   ],
   "source": [
    "# Evaluation\n",
    "\n",
    "print(\"Training Accuracy For Logistic Regression :\")\n",
    "print(model_15_lr_best.score(x_train, y_train))\n",
    "\n",
    "print('-'*110)\n",
    "\n",
    "print(\"\\nTest Accuracy For Logistic Regression: \")\n",
    "print(accuracy_score(y_pred_lr , y_test))\n",
    "\n",
    "print('-'*110)\n",
    "\n",
    "print(\"\\nAUC For Logistic Regression :\")\n",
    "print(roc_auc_score(y_test, y_pred_lr))\n",
    "\n",
    "print('-'*110)\n",
    "\n",
    "print(\"\\nConfusion Matrix For Logistic Regression :\")\n",
    "print(confusion_matrix(y_test, y_pred_lr))\n",
    "\n",
    "print('-'*110)\n",
    "print(\"\\nClassification Report For Logistic Regression :\")\n",
    "print(classification_report(y_test, y_pred_lr))"
   ]
  },
  {
   "cell_type": "markdown",
   "metadata": {},
   "source": [
    "### 16. Support Vector Machines"
   ]
  },
  {
   "cell_type": "code",
   "execution_count": 93,
   "metadata": {},
   "outputs": [
    {
     "name": "stdout",
     "output_type": "stream",
     "text": [
      "Fitting 5 folds for each of 100 candidates, totalling 500 fits\n"
     ]
    },
    {
     "name": "stderr",
     "output_type": "stream",
     "text": [
      "[Parallel(n_jobs=-1)]: Using backend LokyBackend with 4 concurrent workers.\n",
      "[Parallel(n_jobs=-1)]: Done  42 tasks      | elapsed:   21.7s\n",
      "[Parallel(n_jobs=-1)]: Done 192 tasks      | elapsed:  1.7min\n",
      "[Parallel(n_jobs=-1)]: Done 442 tasks      | elapsed:  3.5min\n",
      "[Parallel(n_jobs=-1)]: Done 500 out of 500 | elapsed:  3.9min finished\n"
     ]
    }
   ],
   "source": [
    "# Model - 16 ----- SVM\n",
    "\n",
    "# Tuning Hyper-Parameters\n",
    "grid_parameters = {'C': [0.001,0.01,0.1,1,10], 'gamma': [0.001, 0.01, 1, 10, 100], \n",
    "                   'tol' :[0.01,0.1], 'degree' : [3,5]}\n",
    "\n",
    "# Making Classifier Ready\n",
    "model_16_svm = GridSearchCV(SVC(), grid_parameters, verbose = 1, cv = 5, n_jobs = -1)\n",
    "\n",
    "# Training The Model\n",
    "model_16_svm.fit(x_train, y_train)\n",
    "\n",
    "# Finding best_estimator\n",
    "model_16_svm_best = model_16_svm.best_estimator_"
   ]
  },
  {
   "cell_type": "code",
   "execution_count": 94,
   "metadata": {},
   "outputs": [
    {
     "name": "stdout",
     "output_type": "stream",
     "text": [
      "Best Parameters For SVMs :  {'C': 10, 'degree': 3, 'gamma': 10, 'tol': 0.01}\n"
     ]
    }
   ],
   "source": [
    "# Predicting Model\n",
    "y_pred_svm = model_16_svm_best.predict(x_test)\n",
    "\n",
    "print (\"Best Parameters For SVMs : \",model_16_svm.best_params_)"
   ]
  },
  {
   "cell_type": "code",
   "execution_count": 95,
   "metadata": {},
   "outputs": [
    {
     "name": "stdout",
     "output_type": "stream",
     "text": [
      "Training Accuracy For SVMs :\n",
      "1.0\n",
      "--------------------------------------------------------------------------------------------------------------\n",
      "\n",
      "Test Accuracy FOr SVMs :\n",
      "0.9886947584789312\n",
      "--------------------------------------------------------------------------------------------------------------\n",
      "\n",
      "AUC For SVMs :\n",
      "0.9884675701266423\n",
      "--------------------------------------------------------------------------------------------------------------\n",
      "\n",
      "Confusion Matrix For SVMs :\n",
      "[[993   1]\n",
      " [ 21 931]]\n",
      "--------------------------------------------------------------------------------------------------------------\n",
      "\n",
      "Classification Report For SVMs :\n",
      "              precision    recall  f1-score   support\n",
      "\n",
      "           0       0.98      1.00      0.99       994\n",
      "           1       1.00      0.98      0.99       952\n",
      "\n",
      "    accuracy                           0.99      1946\n",
      "   macro avg       0.99      0.99      0.99      1946\n",
      "weighted avg       0.99      0.99      0.99      1946\n",
      "\n"
     ]
    }
   ],
   "source": [
    "# Evaluation\n",
    "\n",
    "print(\"Training Accuracy For SVMs :\")\n",
    "print(model_16_svm_best.score(x_train, y_train))\n",
    "\n",
    "print('-'*110)\n",
    "\n",
    "print(\"\\nTest Accuracy FOr SVMs :\")\n",
    "print(accuracy_score(y_pred_svm , y_test))\n",
    "\n",
    "print('-'*110)\n",
    "\n",
    "print(\"\\nAUC For SVMs :\")\n",
    "print(roc_auc_score(y_test, y_pred_svm))\n",
    "\n",
    "print('-'*110)\n",
    "\n",
    "print(\"\\nConfusion Matrix For SVMs :\")\n",
    "print(confusion_matrix(y_test, y_pred_svm))\n",
    "\n",
    "print('-'*110)\n",
    "print(\"\\nClassification Report For SVMs :\")\n",
    "print(classification_report(y_test, y_pred_svm))"
   ]
  },
  {
   "cell_type": "markdown",
   "metadata": {},
   "source": [
    "### 17. Random Forest Classifier"
   ]
  },
  {
   "cell_type": "code",
   "execution_count": 96,
   "metadata": {},
   "outputs": [
    {
     "name": "stdout",
     "output_type": "stream",
     "text": [
      "Fitting 3 folds for each of 20 candidates, totalling 60 fits\n"
     ]
    },
    {
     "name": "stderr",
     "output_type": "stream",
     "text": [
      "[Parallel(n_jobs=-1)]: Using backend LokyBackend with 4 concurrent workers.\n",
      "[Parallel(n_jobs=-1)]: Done  42 tasks      | elapsed:   18.0s\n",
      "[Parallel(n_jobs=-1)]: Done  60 out of  60 | elapsed:   31.3s finished\n"
     ]
    }
   ],
   "source": [
    "# Model - 17 ----- Random Forest\n",
    "\n",
    "# Tuning Hyper-Parameters\n",
    "grid_parameters = {'max_depth' : [3, 5, 7, 10, 13], 'n_estimators' : [100,150,200,300]}\n",
    "\n",
    "# Making Classifier Ready\n",
    "model_17_rf = GridSearchCV(RandomForestClassifier(), grid_parameters, verbose = 1, cv = 3, n_jobs = -1)\n",
    "\n",
    "# Training The Model\n",
    "model_17_rf.fit(x_train, y_train)\n",
    "\n",
    "# Finding best_estimator\n",
    "model_17_rf_best = model_17_rf.best_estimator_"
   ]
  },
  {
   "cell_type": "code",
   "execution_count": 97,
   "metadata": {},
   "outputs": [
    {
     "name": "stdout",
     "output_type": "stream",
     "text": [
      "Best Parameters For Random Forest Classifier :  {'max_depth': 13, 'n_estimators': 150}\n"
     ]
    }
   ],
   "source": [
    "# Predicting Model\n",
    "y_pred_rf = model_17_rf_best.predict(x_test)\n",
    "\n",
    "print (\"Best Parameters For Random Forest Classifier : \",model_17_rf.best_params_)"
   ]
  },
  {
   "cell_type": "code",
   "execution_count": 98,
   "metadata": {},
   "outputs": [
    {
     "name": "stdout",
     "output_type": "stream",
     "text": [
      "Training Accuracy For Random Forest Classifier :\n",
      "0.9958890030832477\n",
      "--------------------------------------------------------------------------------------------------------------\n",
      "\n",
      "Test Accuracy For Random Forest Classifier :\n",
      "0.959917780061665\n",
      "--------------------------------------------------------------------------------------------------------------\n",
      "\n",
      "AUC For Random Forest Classifier :\n",
      "0.9604760918451888\n",
      "--------------------------------------------------------------------------------------------------------------\n",
      "\n",
      "Confusion Matrix For Random Forest Classifier :\n",
      "[[929  65]\n",
      " [ 13 939]]\n",
      "--------------------------------------------------------------------------------------------------------------\n",
      "\n",
      "Classification Report For Random Forest Classifier :\n",
      "              precision    recall  f1-score   support\n",
      "\n",
      "           0       0.99      0.93      0.96       994\n",
      "           1       0.94      0.99      0.96       952\n",
      "\n",
      "    accuracy                           0.96      1946\n",
      "   macro avg       0.96      0.96      0.96      1946\n",
      "weighted avg       0.96      0.96      0.96      1946\n",
      "\n"
     ]
    }
   ],
   "source": [
    "# Evaluation\n",
    "\n",
    "print(\"Training Accuracy For Random Forest Classifier :\")\n",
    "print(model_17_rf_best.score(x_train, y_train))\n",
    "\n",
    "print('-'*110)\n",
    "\n",
    "print(\"\\nTest Accuracy For Random Forest Classifier :\")\n",
    "print(accuracy_score(y_pred_rf , y_test))\n",
    "\n",
    "print('-'*110)\n",
    "\n",
    "print(\"\\nAUC For Random Forest Classifier :\")\n",
    "print(roc_auc_score(y_test, y_pred_rf))\n",
    "\n",
    "print('-'*110)\n",
    "\n",
    "print(\"\\nConfusion Matrix For Random Forest Classifier :\")\n",
    "print(confusion_matrix(y_test, y_pred_rf))\n",
    "\n",
    "print('-'*110)\n",
    "print(\"\\nClassification Report For Random Forest Classifier :\")\n",
    "print(classification_report(y_test, y_pred_rf))"
   ]
  },
  {
   "cell_type": "markdown",
   "metadata": {},
   "source": [
    "### 18. XGBoosted Classifier"
   ]
  },
  {
   "cell_type": "code",
   "execution_count": 100,
   "metadata": {},
   "outputs": [
    {
     "name": "stdout",
     "output_type": "stream",
     "text": [
      "Fitting 3 folds for each of 80 candidates, totalling 240 fits\n"
     ]
    },
    {
     "name": "stderr",
     "output_type": "stream",
     "text": [
      "[Parallel(n_jobs=-1)]: Using backend LokyBackend with 4 concurrent workers.\n",
      "[Parallel(n_jobs=-1)]: Done  42 tasks      | elapsed:  1.2min\n",
      "[Parallel(n_jobs=-1)]: Done 192 tasks      | elapsed:  6.0min\n",
      "[Parallel(n_jobs=-1)]: Done 240 out of 240 | elapsed:  6.8min finished\n"
     ]
    }
   ],
   "source": [
    "# Model - 18 ----- XGBClassifier\n",
    "\n",
    "# Tuning Hyper-Parameters\n",
    "grid_parameters = {'max_depth' : [3, 5, 7, 10], 'learning_rate' : [0.001, 0.01, 0.1, 1], \n",
    "                   'n_estimators' : [100,150,200,250,500]}\n",
    "\n",
    "# Making Classifier Ready\n",
    "model_18_xgb = GridSearchCV(XGBClassifier(objective = 'binary:hinge'), grid_parameters, verbose = 1, cv = 3, n_jobs = -1)\n",
    "\n",
    "# Training The Model\n",
    "model_18_xgb.fit(x_train, y_train)\n",
    "\n",
    "# Finding best_estimator\n",
    "model_18_xgb_best = model_18_xgb.best_estimator_"
   ]
  },
  {
   "cell_type": "code",
   "execution_count": 101,
   "metadata": {},
   "outputs": [
    {
     "name": "stdout",
     "output_type": "stream",
     "text": [
      "Best Parameters For XGBoosting :  {'learning_rate': 0.1, 'max_depth': 7, 'n_estimators': 100}\n"
     ]
    }
   ],
   "source": [
    "# Predicting Model\n",
    "y_pred_xgb = model_18_xgb_best.predict(x_test)\n",
    "\n",
    "print (\"Best Parameters For XGBoosting : \",model_18_xgb.best_params_)"
   ]
  },
  {
   "cell_type": "code",
   "execution_count": 102,
   "metadata": {},
   "outputs": [
    {
     "name": "stdout",
     "output_type": "stream",
     "text": [
      "Training Accuracy For XGBoosting :\n",
      "0.9981157930798219\n",
      "--------------------------------------------------------------------------------------------------------------\n",
      "\n",
      "Test Accuracy For XGBoosting :\n",
      "0.9640287769784173\n",
      "--------------------------------------------------------------------------------------------------------------\n",
      "\n",
      "AUC For XGBoosting :\n",
      "0.9645224286897858\n",
      "--------------------------------------------------------------------------------------------------------------\n",
      "\n",
      "Confusion Matrix For XGBoosting :\n",
      "[[936  58]\n",
      " [ 12 940]]\n",
      "--------------------------------------------------------------------------------------------------------------\n",
      "\n",
      "Classification Report For XGBoosting :\n",
      "              precision    recall  f1-score   support\n",
      "\n",
      "           0       0.99      0.94      0.96       994\n",
      "           1       0.94      0.99      0.96       952\n",
      "\n",
      "    accuracy                           0.96      1946\n",
      "   macro avg       0.96      0.96      0.96      1946\n",
      "weighted avg       0.97      0.96      0.96      1946\n",
      "\n"
     ]
    }
   ],
   "source": [
    "# Evaluation\n",
    "\n",
    "print(\"Training Accuracy For XGBoosting :\")\n",
    "print(model_18_xgb_best.score(x_train, y_train))\n",
    "\n",
    "print('-'*110)\n",
    "\n",
    "print(\"\\nTest Accuracy For XGBoosting :\")\n",
    "print(accuracy_score(y_pred_xgb , y_test))\n",
    "\n",
    "print('-'*110)\n",
    "\n",
    "print(\"\\nAUC For XGBoosting :\")\n",
    "print(roc_auc_score(y_test, y_pred_xgb))\n",
    "\n",
    "print('-'*110)\n",
    "\n",
    "print(\"\\nConfusion Matrix For XGBoosting :\")\n",
    "print(confusion_matrix(y_test, y_pred_xgb))\n",
    "\n",
    "print('-'*110)\n",
    "print(\"\\nClassification Report For XGBoosting :\")\n",
    "print(classification_report(y_test, y_pred_xgb))"
   ]
  },
  {
   "cell_type": "markdown",
   "metadata": {},
   "source": [
    "# 4. Model Comparisons"
   ]
  },
  {
   "cell_type": "markdown",
   "metadata": {},
   "source": [
    "### Model Comparison With Only Scaled Data"
   ]
  },
  {
   "cell_type": "code",
   "execution_count": 106,
   "metadata": {},
   "outputs": [
    {
     "name": "stdout",
     "output_type": "stream",
     "text": [
      "Accuracy by Using hypertuned KNN                       : 91.34%\n",
      "Accuracy by Using hypertuned Gaussian NB               : 87.42%\n",
      "Accuracy by Using hypertuned Logistic Regression       : 87.76%\n",
      "Accuracy by Using hypertuned SVM                       : 90.17%\n",
      "Accuracy by Using hypertuned Random Forest             : 90.42%\n",
      "Accuracy by Using hypertuned XGB Classifier (Logistic) : 90.34%\n"
     ]
    }
   ],
   "source": [
    "print('Accuracy by Using hypertuned KNN                       : 91.34%')\n",
    "print('Accuracy by Using hypertuned Gaussian NB               : 87.42%')\n",
    "print('Accuracy by Using hypertuned Logistic Regression       : 87.76%')\n",
    "print('Accuracy by Using hypertuned SVM                       : 90.17%')\n",
    "print('Accuracy by Using hypertuned Random Forest             : 90.42%')\n",
    "print('Accuracy by Using hypertuned XGB Classifier (Logistic) : 90.34%')"
   ]
  },
  {
   "cell_type": "markdown",
   "metadata": {},
   "source": [
    "### Model Comparison With Sclaed + Down Sampled Data"
   ]
  },
  {
   "cell_type": "code",
   "execution_count": 107,
   "metadata": {},
   "outputs": [
    {
     "name": "stdout",
     "output_type": "stream",
     "text": [
      "Accuracy by Using hypertuned KNN                       : 85.49%\n",
      "Accuracy by Using hypertuned Gaussian NB               : 84.39%\n",
      "Accuracy by Using hypertuned Logistic Regression       : 81.09%\n",
      "Accuracy by Using hypertuned SVM                       : 84.39%\n",
      "Accuracy by Using hypertuned Random Forest             : 84.83%\n"
     ]
    }
   ],
   "source": [
    "print('Accuracy by Using hypertuned KNN                       : 85.49%')\n",
    "print('Accuracy by Using hypertuned Gaussian NB               : 84.39%')\n",
    "print('Accuracy by Using hypertuned Logistic Regression       : 81.09%')\n",
    "print('Accuracy by Using hypertuned SVM                       : 84.39%')\n",
    "print('Accuracy by Using hypertuned Random Forest             : 84.83%')"
   ]
  },
  {
   "cell_type": "markdown",
   "metadata": {},
   "source": [
    "### Model Comparison With Sclaed + Up Sampled Data"
   ]
  },
  {
   "cell_type": "code",
   "execution_count": 108,
   "metadata": {},
   "outputs": [
    {
     "name": "stdout",
     "output_type": "stream",
     "text": [
      "Accuracy by Using hypertuned KNN                       : 81.06%\n",
      "Accuracy by Using hypertuned Gaussian NB               : 83.55%\n",
      "Accuracy by Using hypertuned Logistic Regression       : 81.55%\n",
      "Accuracy by Using hypertuned SVM                       : 98.86%\n",
      "Accuracy by Using hypertuned Random Forest             : 95.99%\n",
      "Accuracy by Using hypertuned XGB Classifier (Hinge)    : 96.40%\n"
     ]
    }
   ],
   "source": [
    "print('Accuracy by Using hypertuned KNN                       : 81.06%')\n",
    "print('Accuracy by Using hypertuned Gaussian NB               : 83.55%')\n",
    "print('Accuracy by Using hypertuned Logistic Regression       : 81.55%')\n",
    "print('Accuracy by Using hypertuned SVM                       : 98.86%')\n",
    "print('Accuracy by Using hypertuned Random Forest             : 95.99%')\n",
    "print('Accuracy by Using hypertuned XGB Classifier (Hinge)    : 96.40%')"
   ]
  },
  {
   "cell_type": "markdown",
   "metadata": {},
   "source": [
    "# End Results"
   ]
  },
  {
   "cell_type": "markdown",
   "metadata": {},
   "source": [
    "- After all the possible experiments Maximum accuracy of 98.86% is achieved by using SVM and by making data balanced as Up Sampling.\n",
    "- So, SVMs would accurately classify the Genre of the Songs if audio features have given.\n",
    "- Surprisingly XGB Classifier does not give the accuracy better than SVM."
   ]
  },
  {
   "cell_type": "markdown",
   "metadata": {},
   "source": [
    "# End of File"
   ]
  }
 ],
 "metadata": {
  "kernelspec": {
   "display_name": "Python 3",
   "language": "python",
   "name": "python3"
  },
  "language_info": {
   "codemirror_mode": {
    "name": "ipython",
    "version": 3
   },
   "file_extension": ".py",
   "mimetype": "text/x-python",
   "name": "python",
   "nbconvert_exporter": "python",
   "pygments_lexer": "ipython3",
   "version": "3.7.3"
  }
 },
 "nbformat": 4,
 "nbformat_minor": 4
}
